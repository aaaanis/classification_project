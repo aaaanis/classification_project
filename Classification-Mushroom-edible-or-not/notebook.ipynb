{
 "cells": [
  {
   "cell_type": "markdown",
   "source": "# Objectives",
   "metadata": {
    "cell_id": "53667af6b7eb4e6e82158cb9c0a280b5",
    "tags": [],
    "is_collapsed": false,
    "deepnote_cell_type": "text-cell-h1"
   }
  },
  {
   "cell_type": "markdown",
   "source": "- What types of machine learning models perform best on this dataset?\n- Which features are most indicative of a poisonous mushroom?",
   "metadata": {
    "cell_id": "1d1ce672626440bfa151e7565c2ec424",
    "tags": [],
    "deepnote_cell_type": "markdown",
    "deepnote_cell_height": 94
   }
  },
  {
   "cell_type": "markdown",
   "source": "# Imports",
   "metadata": {
    "cell_id": "114fadd4261d4ac6a18e792bef8bba1e",
    "tags": [],
    "is_collapsed": false,
    "deepnote_cell_type": "text-cell-h1"
   }
  },
  {
   "cell_type": "code",
   "metadata": {
    "tags": [],
    "cell_id": "b9f18bd0-2206-41dc-8313-b5335f8a0d43",
    "deepnote_to_be_reexecuted": false,
    "source_hash": "6baf5c3",
    "execution_start": 1648645888257,
    "execution_millis": 2,
    "deepnote_cell_type": "code",
    "deepnote_cell_height": 423
   },
   "source": "import pandas as pd\nfrom scipy import stats\nimport plotly.graph_objects as go\nimport matplotlib.pyplot as plt\nfrom matplotlib import colors\nfrom matplotlib.colors import ListedColormap\nimport seaborn as sns\nimport numpy as np\nfrom sklearn.preprocessing import LabelEncoder, StandardScaler\nfrom sklearn.model_selection import train_test_split, cross_val_score\nfrom sklearn import metrics\nfrom sklearn.metrics import confusion_matrix, roc_curve, auc\nfrom sklearn.decomposition import PCA\nfrom sklearn.naive_bayes import GaussianNB\nfrom sklearn.linear_model import LogisticRegression\nfrom sklearn.linear_model import LassoCV\nfrom sklearn.feature_selection import SelectFromModel\nfrom sklearn.neighbors import KNeighborsClassifier\nfrom sklearn.svm import SVC\nfrom sklearn.ensemble import RandomForestClassifier",
   "execution_count": 77,
   "outputs": []
  },
  {
   "cell_type": "markdown",
   "source": "# Loading Data &amp; Initial Analysis",
   "metadata": {
    "cell_id": "c1107b4f177e493295b145b7156f3fb7",
    "tags": [],
    "is_collapsed": false,
    "deepnote_cell_type": "text-cell-h1"
   }
  },
  {
   "cell_type": "code",
   "metadata": {
    "cell_id": "05eca34f6b934dee8a1299cfeaad8685",
    "tags": [],
    "deepnote_to_be_reexecuted": false,
    "source_hash": "3d0c732f",
    "execution_start": 1648645248971,
    "execution_millis": 179,
    "deepnote_cell_type": "code",
    "deepnote_cell_height": 616
   },
   "source": "mushroom_df = pd.read_csv('/work/mushrooms.csv')\nmushroom_df",
   "execution_count": 2,
   "outputs": [
    {
     "output_type": "execute_result",
     "execution_count": 2,
     "data": {
      "application/vnd.deepnote.dataframe.v3+json": {
       "column_count": 23,
       "row_count": 8124,
       "columns": [
        {
         "name": "class",
         "dtype": "object",
         "stats": {
          "unique_count": 2,
          "nan_count": 0,
          "categories": [
           {
            "name": "e",
            "count": 4208
           },
           {
            "name": "p",
            "count": 3916
           }
          ]
         }
        },
        {
         "name": "cap-shape",
         "dtype": "object",
         "stats": {
          "unique_count": 6,
          "nan_count": 0,
          "categories": [
           {
            "name": "x",
            "count": 3656
           },
           {
            "name": "f",
            "count": 3152
           },
           {
            "name": "4 others",
            "count": 1316
           }
          ]
         }
        },
        {
         "name": "cap-surface",
         "dtype": "object",
         "stats": {
          "unique_count": 4,
          "nan_count": 0,
          "categories": [
           {
            "name": "y",
            "count": 3244
           },
           {
            "name": "s",
            "count": 2556
           },
           {
            "name": "2 others",
            "count": 2324
           }
          ]
         }
        },
        {
         "name": "cap-color",
         "dtype": "object",
         "stats": {
          "unique_count": 10,
          "nan_count": 0,
          "categories": [
           {
            "name": "n",
            "count": 2284
           },
           {
            "name": "g",
            "count": 1840
           },
           {
            "name": "8 others",
            "count": 4000
           }
          ]
         }
        },
        {
         "name": "bruises",
         "dtype": "object",
         "stats": {
          "unique_count": 2,
          "nan_count": 0,
          "categories": [
           {
            "name": "f",
            "count": 4748
           },
           {
            "name": "t",
            "count": 3376
           }
          ]
         }
        },
        {
         "name": "odor",
         "dtype": "object",
         "stats": {
          "unique_count": 9,
          "nan_count": 0,
          "categories": [
           {
            "name": "n",
            "count": 3528
           },
           {
            "name": "f",
            "count": 2160
           },
           {
            "name": "7 others",
            "count": 2436
           }
          ]
         }
        },
        {
         "name": "gill-attachment",
         "dtype": "object",
         "stats": {
          "unique_count": 2,
          "nan_count": 0,
          "categories": [
           {
            "name": "f",
            "count": 7914
           },
           {
            "name": "a",
            "count": 210
           }
          ]
         }
        },
        {
         "name": "gill-spacing",
         "dtype": "object",
         "stats": {
          "unique_count": 2,
          "nan_count": 0,
          "categories": [
           {
            "name": "c",
            "count": 6812
           },
           {
            "name": "w",
            "count": 1312
           }
          ]
         }
        },
        {
         "name": "gill-size",
         "dtype": "object",
         "stats": {
          "unique_count": 2,
          "nan_count": 0,
          "categories": [
           {
            "name": "b",
            "count": 5612
           },
           {
            "name": "n",
            "count": 2512
           }
          ]
         }
        },
        {
         "name": "gill-color",
         "dtype": "object",
         "stats": {
          "unique_count": 12,
          "nan_count": 0,
          "categories": [
           {
            "name": "b",
            "count": 1728
           },
           {
            "name": "p",
            "count": 1492
           },
           {
            "name": "10 others",
            "count": 4904
           }
          ]
         }
        },
        {
         "name": "stalk-shape",
         "dtype": "object",
         "stats": {
          "unique_count": 2,
          "nan_count": 0,
          "categories": [
           {
            "name": "t",
            "count": 4608
           },
           {
            "name": "e",
            "count": 3516
           }
          ]
         }
        },
        {
         "name": "stalk-root",
         "dtype": "object",
         "stats": {
          "unique_count": 5,
          "nan_count": 0,
          "categories": [
           {
            "name": "b",
            "count": 3776
           },
           {
            "name": "?",
            "count": 2480
           },
           {
            "name": "3 others",
            "count": 1868
           }
          ]
         }
        },
        {
         "name": "stalk-surface-above-ring",
         "dtype": "object"
        },
        {
         "name": "stalk-surface-below-ring",
         "dtype": "object"
        },
        {
         "name": "stalk-color-above-ring",
         "dtype": "object"
        },
        {
         "name": "stalk-color-below-ring",
         "dtype": "object"
        },
        {
         "name": "veil-type",
         "dtype": "object"
        },
        {
         "name": "veil-color",
         "dtype": "object"
        },
        {
         "name": "ring-number",
         "dtype": "object"
        },
        {
         "name": "ring-type",
         "dtype": "object"
        },
        {
         "name": "spore-print-color",
         "dtype": "object"
        },
        {
         "name": "population",
         "dtype": "object"
        },
        {
         "name": "habitat",
         "dtype": "object"
        },
        {
         "name": "_deepnote_index_column",
         "dtype": "int64"
        }
       ],
       "rows": [
        {
         "class": "p",
         "cap-shape": "x",
         "cap-surface": "s",
         "cap-color": "n",
         "bruises": "t",
         "odor": "p",
         "gill-attachment": "f",
         "gill-spacing": "c",
         "gill-size": "n",
         "gill-color": "k",
         "stalk-shape": "e",
         "stalk-root": "e",
         "stalk-surface-above-ring": "s",
         "stalk-surface-below-ring": "s",
         "stalk-color-above-ring": "w",
         "stalk-color-below-ring": "w",
         "veil-type": "p",
         "veil-color": "w",
         "ring-number": "o",
         "ring-type": "p",
         "spore-print-color": "k",
         "population": "s",
         "habitat": "u",
         "_deepnote_index_column": 0
        },
        {
         "class": "e",
         "cap-shape": "x",
         "cap-surface": "s",
         "cap-color": "y",
         "bruises": "t",
         "odor": "a",
         "gill-attachment": "f",
         "gill-spacing": "c",
         "gill-size": "b",
         "gill-color": "k",
         "stalk-shape": "e",
         "stalk-root": "c",
         "stalk-surface-above-ring": "s",
         "stalk-surface-below-ring": "s",
         "stalk-color-above-ring": "w",
         "stalk-color-below-ring": "w",
         "veil-type": "p",
         "veil-color": "w",
         "ring-number": "o",
         "ring-type": "p",
         "spore-print-color": "n",
         "population": "n",
         "habitat": "g",
         "_deepnote_index_column": 1
        },
        {
         "class": "e",
         "cap-shape": "b",
         "cap-surface": "s",
         "cap-color": "w",
         "bruises": "t",
         "odor": "l",
         "gill-attachment": "f",
         "gill-spacing": "c",
         "gill-size": "b",
         "gill-color": "n",
         "stalk-shape": "e",
         "stalk-root": "c",
         "stalk-surface-above-ring": "s",
         "stalk-surface-below-ring": "s",
         "stalk-color-above-ring": "w",
         "stalk-color-below-ring": "w",
         "veil-type": "p",
         "veil-color": "w",
         "ring-number": "o",
         "ring-type": "p",
         "spore-print-color": "n",
         "population": "n",
         "habitat": "m",
         "_deepnote_index_column": 2
        },
        {
         "class": "p",
         "cap-shape": "x",
         "cap-surface": "y",
         "cap-color": "w",
         "bruises": "t",
         "odor": "p",
         "gill-attachment": "f",
         "gill-spacing": "c",
         "gill-size": "n",
         "gill-color": "n",
         "stalk-shape": "e",
         "stalk-root": "e",
         "stalk-surface-above-ring": "s",
         "stalk-surface-below-ring": "s",
         "stalk-color-above-ring": "w",
         "stalk-color-below-ring": "w",
         "veil-type": "p",
         "veil-color": "w",
         "ring-number": "o",
         "ring-type": "p",
         "spore-print-color": "k",
         "population": "s",
         "habitat": "u",
         "_deepnote_index_column": 3
        },
        {
         "class": "e",
         "cap-shape": "x",
         "cap-surface": "s",
         "cap-color": "g",
         "bruises": "f",
         "odor": "n",
         "gill-attachment": "f",
         "gill-spacing": "w",
         "gill-size": "b",
         "gill-color": "k",
         "stalk-shape": "t",
         "stalk-root": "e",
         "stalk-surface-above-ring": "s",
         "stalk-surface-below-ring": "s",
         "stalk-color-above-ring": "w",
         "stalk-color-below-ring": "w",
         "veil-type": "p",
         "veil-color": "w",
         "ring-number": "o",
         "ring-type": "e",
         "spore-print-color": "n",
         "population": "a",
         "habitat": "g",
         "_deepnote_index_column": 4
        },
        {
         "class": "e",
         "cap-shape": "x",
         "cap-surface": "y",
         "cap-color": "y",
         "bruises": "t",
         "odor": "a",
         "gill-attachment": "f",
         "gill-spacing": "c",
         "gill-size": "b",
         "gill-color": "n",
         "stalk-shape": "e",
         "stalk-root": "c",
         "stalk-surface-above-ring": "s",
         "stalk-surface-below-ring": "s",
         "stalk-color-above-ring": "w",
         "stalk-color-below-ring": "w",
         "veil-type": "p",
         "veil-color": "w",
         "ring-number": "o",
         "ring-type": "p",
         "spore-print-color": "k",
         "population": "n",
         "habitat": "g",
         "_deepnote_index_column": 5
        },
        {
         "class": "e",
         "cap-shape": "b",
         "cap-surface": "s",
         "cap-color": "w",
         "bruises": "t",
         "odor": "a",
         "gill-attachment": "f",
         "gill-spacing": "c",
         "gill-size": "b",
         "gill-color": "g",
         "stalk-shape": "e",
         "stalk-root": "c",
         "stalk-surface-above-ring": "s",
         "stalk-surface-below-ring": "s",
         "stalk-color-above-ring": "w",
         "stalk-color-below-ring": "w",
         "veil-type": "p",
         "veil-color": "w",
         "ring-number": "o",
         "ring-type": "p",
         "spore-print-color": "k",
         "population": "n",
         "habitat": "m",
         "_deepnote_index_column": 6
        },
        {
         "class": "e",
         "cap-shape": "b",
         "cap-surface": "y",
         "cap-color": "w",
         "bruises": "t",
         "odor": "l",
         "gill-attachment": "f",
         "gill-spacing": "c",
         "gill-size": "b",
         "gill-color": "n",
         "stalk-shape": "e",
         "stalk-root": "c",
         "stalk-surface-above-ring": "s",
         "stalk-surface-below-ring": "s",
         "stalk-color-above-ring": "w",
         "stalk-color-below-ring": "w",
         "veil-type": "p",
         "veil-color": "w",
         "ring-number": "o",
         "ring-type": "p",
         "spore-print-color": "n",
         "population": "s",
         "habitat": "m",
         "_deepnote_index_column": 7
        },
        {
         "class": "p",
         "cap-shape": "x",
         "cap-surface": "y",
         "cap-color": "w",
         "bruises": "t",
         "odor": "p",
         "gill-attachment": "f",
         "gill-spacing": "c",
         "gill-size": "n",
         "gill-color": "p",
         "stalk-shape": "e",
         "stalk-root": "e",
         "stalk-surface-above-ring": "s",
         "stalk-surface-below-ring": "s",
         "stalk-color-above-ring": "w",
         "stalk-color-below-ring": "w",
         "veil-type": "p",
         "veil-color": "w",
         "ring-number": "o",
         "ring-type": "p",
         "spore-print-color": "k",
         "population": "v",
         "habitat": "g",
         "_deepnote_index_column": 8
        },
        {
         "class": "e",
         "cap-shape": "b",
         "cap-surface": "s",
         "cap-color": "y",
         "bruises": "t",
         "odor": "a",
         "gill-attachment": "f",
         "gill-spacing": "c",
         "gill-size": "b",
         "gill-color": "g",
         "stalk-shape": "e",
         "stalk-root": "c",
         "stalk-surface-above-ring": "s",
         "stalk-surface-below-ring": "s",
         "stalk-color-above-ring": "w",
         "stalk-color-below-ring": "w",
         "veil-type": "p",
         "veil-color": "w",
         "ring-number": "o",
         "ring-type": "p",
         "spore-print-color": "k",
         "population": "s",
         "habitat": "m",
         "_deepnote_index_column": 9
        }
       ]
      },
      "text/plain": "     class cap-shape cap-surface cap-color bruises odor gill-attachment  \\\n0        p         x           s         n       t    p               f   \n1        e         x           s         y       t    a               f   \n2        e         b           s         w       t    l               f   \n3        p         x           y         w       t    p               f   \n4        e         x           s         g       f    n               f   \n...    ...       ...         ...       ...     ...  ...             ...   \n8119     e         k           s         n       f    n               a   \n8120     e         x           s         n       f    n               a   \n8121     e         f           s         n       f    n               a   \n8122     p         k           y         n       f    y               f   \n8123     e         x           s         n       f    n               a   \n\n     gill-spacing gill-size gill-color  ... stalk-surface-below-ring  \\\n0               c         n          k  ...                        s   \n1               c         b          k  ...                        s   \n2               c         b          n  ...                        s   \n3               c         n          n  ...                        s   \n4               w         b          k  ...                        s   \n...           ...       ...        ...  ...                      ...   \n8119            c         b          y  ...                        s   \n8120            c         b          y  ...                        s   \n8121            c         b          n  ...                        s   \n8122            c         n          b  ...                        k   \n8123            c         b          y  ...                        s   \n\n     stalk-color-above-ring stalk-color-below-ring veil-type veil-color  \\\n0                         w                      w         p          w   \n1                         w                      w         p          w   \n2                         w                      w         p          w   \n3                         w                      w         p          w   \n4                         w                      w         p          w   \n...                     ...                    ...       ...        ...   \n8119                      o                      o         p          o   \n8120                      o                      o         p          n   \n8121                      o                      o         p          o   \n8122                      w                      w         p          w   \n8123                      o                      o         p          o   \n\n     ring-number ring-type spore-print-color population habitat  \n0              o         p                 k          s       u  \n1              o         p                 n          n       g  \n2              o         p                 n          n       m  \n3              o         p                 k          s       u  \n4              o         e                 n          a       g  \n...          ...       ...               ...        ...     ...  \n8119           o         p                 b          c       l  \n8120           o         p                 b          v       l  \n8121           o         p                 b          c       l  \n8122           o         e                 w          v       l  \n8123           o         p                 o          c       l  \n\n[8124 rows x 23 columns]",
      "text/html": "<div>\n<style scoped>\n    .dataframe tbody tr th:only-of-type {\n        vertical-align: middle;\n    }\n\n    .dataframe tbody tr th {\n        vertical-align: top;\n    }\n\n    .dataframe thead th {\n        text-align: right;\n    }\n</style>\n<table border=\"1\" class=\"dataframe\">\n  <thead>\n    <tr style=\"text-align: right;\">\n      <th></th>\n      <th>class</th>\n      <th>cap-shape</th>\n      <th>cap-surface</th>\n      <th>cap-color</th>\n      <th>bruises</th>\n      <th>odor</th>\n      <th>gill-attachment</th>\n      <th>gill-spacing</th>\n      <th>gill-size</th>\n      <th>gill-color</th>\n      <th>...</th>\n      <th>stalk-surface-below-ring</th>\n      <th>stalk-color-above-ring</th>\n      <th>stalk-color-below-ring</th>\n      <th>veil-type</th>\n      <th>veil-color</th>\n      <th>ring-number</th>\n      <th>ring-type</th>\n      <th>spore-print-color</th>\n      <th>population</th>\n      <th>habitat</th>\n    </tr>\n  </thead>\n  <tbody>\n    <tr>\n      <th>0</th>\n      <td>p</td>\n      <td>x</td>\n      <td>s</td>\n      <td>n</td>\n      <td>t</td>\n      <td>p</td>\n      <td>f</td>\n      <td>c</td>\n      <td>n</td>\n      <td>k</td>\n      <td>...</td>\n      <td>s</td>\n      <td>w</td>\n      <td>w</td>\n      <td>p</td>\n      <td>w</td>\n      <td>o</td>\n      <td>p</td>\n      <td>k</td>\n      <td>s</td>\n      <td>u</td>\n    </tr>\n    <tr>\n      <th>1</th>\n      <td>e</td>\n      <td>x</td>\n      <td>s</td>\n      <td>y</td>\n      <td>t</td>\n      <td>a</td>\n      <td>f</td>\n      <td>c</td>\n      <td>b</td>\n      <td>k</td>\n      <td>...</td>\n      <td>s</td>\n      <td>w</td>\n      <td>w</td>\n      <td>p</td>\n      <td>w</td>\n      <td>o</td>\n      <td>p</td>\n      <td>n</td>\n      <td>n</td>\n      <td>g</td>\n    </tr>\n    <tr>\n      <th>2</th>\n      <td>e</td>\n      <td>b</td>\n      <td>s</td>\n      <td>w</td>\n      <td>t</td>\n      <td>l</td>\n      <td>f</td>\n      <td>c</td>\n      <td>b</td>\n      <td>n</td>\n      <td>...</td>\n      <td>s</td>\n      <td>w</td>\n      <td>w</td>\n      <td>p</td>\n      <td>w</td>\n      <td>o</td>\n      <td>p</td>\n      <td>n</td>\n      <td>n</td>\n      <td>m</td>\n    </tr>\n    <tr>\n      <th>3</th>\n      <td>p</td>\n      <td>x</td>\n      <td>y</td>\n      <td>w</td>\n      <td>t</td>\n      <td>p</td>\n      <td>f</td>\n      <td>c</td>\n      <td>n</td>\n      <td>n</td>\n      <td>...</td>\n      <td>s</td>\n      <td>w</td>\n      <td>w</td>\n      <td>p</td>\n      <td>w</td>\n      <td>o</td>\n      <td>p</td>\n      <td>k</td>\n      <td>s</td>\n      <td>u</td>\n    </tr>\n    <tr>\n      <th>4</th>\n      <td>e</td>\n      <td>x</td>\n      <td>s</td>\n      <td>g</td>\n      <td>f</td>\n      <td>n</td>\n      <td>f</td>\n      <td>w</td>\n      <td>b</td>\n      <td>k</td>\n      <td>...</td>\n      <td>s</td>\n      <td>w</td>\n      <td>w</td>\n      <td>p</td>\n      <td>w</td>\n      <td>o</td>\n      <td>e</td>\n      <td>n</td>\n      <td>a</td>\n      <td>g</td>\n    </tr>\n    <tr>\n      <th>...</th>\n      <td>...</td>\n      <td>...</td>\n      <td>...</td>\n      <td>...</td>\n      <td>...</td>\n      <td>...</td>\n      <td>...</td>\n      <td>...</td>\n      <td>...</td>\n      <td>...</td>\n      <td>...</td>\n      <td>...</td>\n      <td>...</td>\n      <td>...</td>\n      <td>...</td>\n      <td>...</td>\n      <td>...</td>\n      <td>...</td>\n      <td>...</td>\n      <td>...</td>\n      <td>...</td>\n    </tr>\n    <tr>\n      <th>8119</th>\n      <td>e</td>\n      <td>k</td>\n      <td>s</td>\n      <td>n</td>\n      <td>f</td>\n      <td>n</td>\n      <td>a</td>\n      <td>c</td>\n      <td>b</td>\n      <td>y</td>\n      <td>...</td>\n      <td>s</td>\n      <td>o</td>\n      <td>o</td>\n      <td>p</td>\n      <td>o</td>\n      <td>o</td>\n      <td>p</td>\n      <td>b</td>\n      <td>c</td>\n      <td>l</td>\n    </tr>\n    <tr>\n      <th>8120</th>\n      <td>e</td>\n      <td>x</td>\n      <td>s</td>\n      <td>n</td>\n      <td>f</td>\n      <td>n</td>\n      <td>a</td>\n      <td>c</td>\n      <td>b</td>\n      <td>y</td>\n      <td>...</td>\n      <td>s</td>\n      <td>o</td>\n      <td>o</td>\n      <td>p</td>\n      <td>n</td>\n      <td>o</td>\n      <td>p</td>\n      <td>b</td>\n      <td>v</td>\n      <td>l</td>\n    </tr>\n    <tr>\n      <th>8121</th>\n      <td>e</td>\n      <td>f</td>\n      <td>s</td>\n      <td>n</td>\n      <td>f</td>\n      <td>n</td>\n      <td>a</td>\n      <td>c</td>\n      <td>b</td>\n      <td>n</td>\n      <td>...</td>\n      <td>s</td>\n      <td>o</td>\n      <td>o</td>\n      <td>p</td>\n      <td>o</td>\n      <td>o</td>\n      <td>p</td>\n      <td>b</td>\n      <td>c</td>\n      <td>l</td>\n    </tr>\n    <tr>\n      <th>8122</th>\n      <td>p</td>\n      <td>k</td>\n      <td>y</td>\n      <td>n</td>\n      <td>f</td>\n      <td>y</td>\n      <td>f</td>\n      <td>c</td>\n      <td>n</td>\n      <td>b</td>\n      <td>...</td>\n      <td>k</td>\n      <td>w</td>\n      <td>w</td>\n      <td>p</td>\n      <td>w</td>\n      <td>o</td>\n      <td>e</td>\n      <td>w</td>\n      <td>v</td>\n      <td>l</td>\n    </tr>\n    <tr>\n      <th>8123</th>\n      <td>e</td>\n      <td>x</td>\n      <td>s</td>\n      <td>n</td>\n      <td>f</td>\n      <td>n</td>\n      <td>a</td>\n      <td>c</td>\n      <td>b</td>\n      <td>y</td>\n      <td>...</td>\n      <td>s</td>\n      <td>o</td>\n      <td>o</td>\n      <td>p</td>\n      <td>o</td>\n      <td>o</td>\n      <td>p</td>\n      <td>o</td>\n      <td>c</td>\n      <td>l</td>\n    </tr>\n  </tbody>\n</table>\n<p>8124 rows × 23 columns</p>\n</div>"
     },
     "metadata": {}
    }
   ]
  },
  {
   "cell_type": "markdown",
   "source": "- Class p : Poisonous\n\n- Class e : Edible",
   "metadata": {
    "cell_id": "d17dfbb8f08442f8a95906d3b2201d71",
    "tags": [],
    "deepnote_cell_type": "markdown",
    "deepnote_cell_height": 94
   }
  },
  {
   "cell_type": "code",
   "metadata": {
    "cell_id": "31292ae545d54b0ba4385e14d8b66642",
    "tags": [],
    "deepnote_to_be_reexecuted": false,
    "source_hash": "5e223b2b",
    "execution_start": 1648645249155,
    "execution_millis": 11,
    "deepnote_cell_type": "code",
    "deepnote_cell_height": 692
   },
   "source": "mushroom_df.info()",
   "execution_count": 3,
   "outputs": [
    {
     "name": "stdout",
     "text": "<class 'pandas.core.frame.DataFrame'>\nRangeIndex: 8124 entries, 0 to 8123\nData columns (total 23 columns):\n #   Column                    Non-Null Count  Dtype \n---  ------                    --------------  ----- \n 0   class                     8124 non-null   object\n 1   cap-shape                 8124 non-null   object\n 2   cap-surface               8124 non-null   object\n 3   cap-color                 8124 non-null   object\n 4   bruises                   8124 non-null   object\n 5   odor                      8124 non-null   object\n 6   gill-attachment           8124 non-null   object\n 7   gill-spacing              8124 non-null   object\n 8   gill-size                 8124 non-null   object\n 9   gill-color                8124 non-null   object\n 10  stalk-shape               8124 non-null   object\n 11  stalk-root                8124 non-null   object\n 12  stalk-surface-above-ring  8124 non-null   object\n 13  stalk-surface-below-ring  8124 non-null   object\n 14  stalk-color-above-ring    8124 non-null   object\n 15  stalk-color-below-ring    8124 non-null   object\n 16  veil-type                 8124 non-null   object\n 17  veil-color                8124 non-null   object\n 18  ring-number               8124 non-null   object\n 19  ring-type                 8124 non-null   object\n 20  spore-print-color         8124 non-null   object\n 21  population                8124 non-null   object\n 22  habitat                   8124 non-null   object\ndtypes: object(23)\nmemory usage: 1.4+ MB\n",
     "output_type": "stream"
    }
   ]
  },
  {
   "cell_type": "code",
   "metadata": {
    "cell_id": "5ba76414f5f8499b96a15a8d674387fa",
    "tags": [],
    "deepnote_to_be_reexecuted": false,
    "source_hash": "254d1dd6",
    "execution_start": 1648645249171,
    "execution_millis": 482,
    "deepnote_cell_type": "code",
    "deepnote_cell_height": 352
   },
   "source": "mushroom_df.describe(include='all')",
   "execution_count": 4,
   "outputs": [
    {
     "output_type": "execute_result",
     "execution_count": 4,
     "data": {
      "application/vnd.deepnote.dataframe.v3+json": {
       "column_count": 23,
       "row_count": 4,
       "columns": [
        {
         "name": "class",
         "dtype": "object",
         "stats": {
          "unique_count": 4,
          "nan_count": 0,
          "categories": [
           {
            "name": "8124",
            "count": 1
           },
           {
            "name": "2",
            "count": 1
           },
           {
            "name": "2 others",
            "count": 2
           }
          ]
         }
        },
        {
         "name": "cap-shape",
         "dtype": "object",
         "stats": {
          "unique_count": 4,
          "nan_count": 0,
          "categories": [
           {
            "name": "8124",
            "count": 1
           },
           {
            "name": "6",
            "count": 1
           },
           {
            "name": "2 others",
            "count": 2
           }
          ]
         }
        },
        {
         "name": "cap-surface",
         "dtype": "object",
         "stats": {
          "unique_count": 4,
          "nan_count": 0,
          "categories": [
           {
            "name": "8124",
            "count": 1
           },
           {
            "name": "4",
            "count": 1
           },
           {
            "name": "2 others",
            "count": 2
           }
          ]
         }
        },
        {
         "name": "cap-color",
         "dtype": "object",
         "stats": {
          "unique_count": 4,
          "nan_count": 0,
          "categories": [
           {
            "name": "8124",
            "count": 1
           },
           {
            "name": "10",
            "count": 1
           },
           {
            "name": "2 others",
            "count": 2
           }
          ]
         }
        },
        {
         "name": "bruises",
         "dtype": "object",
         "stats": {
          "unique_count": 4,
          "nan_count": 0,
          "categories": [
           {
            "name": "8124",
            "count": 1
           },
           {
            "name": "2",
            "count": 1
           },
           {
            "name": "2 others",
            "count": 2
           }
          ]
         }
        },
        {
         "name": "odor",
         "dtype": "object",
         "stats": {
          "unique_count": 4,
          "nan_count": 0,
          "categories": [
           {
            "name": "8124",
            "count": 1
           },
           {
            "name": "9",
            "count": 1
           },
           {
            "name": "2 others",
            "count": 2
           }
          ]
         }
        },
        {
         "name": "gill-attachment",
         "dtype": "object",
         "stats": {
          "unique_count": 4,
          "nan_count": 0,
          "categories": [
           {
            "name": "8124",
            "count": 1
           },
           {
            "name": "2",
            "count": 1
           },
           {
            "name": "2 others",
            "count": 2
           }
          ]
         }
        },
        {
         "name": "gill-spacing",
         "dtype": "object",
         "stats": {
          "unique_count": 4,
          "nan_count": 0,
          "categories": [
           {
            "name": "8124",
            "count": 1
           },
           {
            "name": "2",
            "count": 1
           },
           {
            "name": "2 others",
            "count": 2
           }
          ]
         }
        },
        {
         "name": "gill-size",
         "dtype": "object",
         "stats": {
          "unique_count": 4,
          "nan_count": 0,
          "categories": [
           {
            "name": "8124",
            "count": 1
           },
           {
            "name": "2",
            "count": 1
           },
           {
            "name": "2 others",
            "count": 2
           }
          ]
         }
        },
        {
         "name": "gill-color",
         "dtype": "object",
         "stats": {
          "unique_count": 4,
          "nan_count": 0,
          "categories": [
           {
            "name": "8124",
            "count": 1
           },
           {
            "name": "12",
            "count": 1
           },
           {
            "name": "2 others",
            "count": 2
           }
          ]
         }
        },
        {
         "name": "stalk-shape",
         "dtype": "object",
         "stats": {
          "unique_count": 4,
          "nan_count": 0,
          "categories": [
           {
            "name": "8124",
            "count": 1
           },
           {
            "name": "2",
            "count": 1
           },
           {
            "name": "2 others",
            "count": 2
           }
          ]
         }
        },
        {
         "name": "stalk-root",
         "dtype": "object",
         "stats": {
          "unique_count": 4,
          "nan_count": 0,
          "categories": [
           {
            "name": "8124",
            "count": 1
           },
           {
            "name": "5",
            "count": 1
           },
           {
            "name": "2 others",
            "count": 2
           }
          ]
         }
        },
        {
         "name": "stalk-surface-above-ring",
         "dtype": "object",
         "stats": {
          "unique_count": 4,
          "nan_count": 0,
          "categories": [
           {
            "name": "8124",
            "count": 1
           },
           {
            "name": "4",
            "count": 1
           },
           {
            "name": "2 others",
            "count": 2
           }
          ]
         }
        },
        {
         "name": "stalk-surface-below-ring",
         "dtype": "object",
         "stats": {
          "unique_count": 4,
          "nan_count": 0,
          "categories": [
           {
            "name": "8124",
            "count": 1
           },
           {
            "name": "4",
            "count": 1
           },
           {
            "name": "2 others",
            "count": 2
           }
          ]
         }
        },
        {
         "name": "stalk-color-above-ring",
         "dtype": "object",
         "stats": {
          "unique_count": 4,
          "nan_count": 0,
          "categories": [
           {
            "name": "8124",
            "count": 1
           },
           {
            "name": "9",
            "count": 1
           },
           {
            "name": "2 others",
            "count": 2
           }
          ]
         }
        },
        {
         "name": "stalk-color-below-ring",
         "dtype": "object",
         "stats": {
          "unique_count": 4,
          "nan_count": 0,
          "categories": [
           {
            "name": "8124",
            "count": 1
           },
           {
            "name": "9",
            "count": 1
           },
           {
            "name": "2 others",
            "count": 2
           }
          ]
         }
        },
        {
         "name": "veil-type",
         "dtype": "object",
         "stats": {
          "unique_count": 3,
          "nan_count": 0,
          "categories": [
           {
            "name": "8124",
            "count": 2
           },
           {
            "name": "1",
            "count": 1
           },
           {
            "name": "p",
            "count": 1
           }
          ]
         }
        },
        {
         "name": "veil-color",
         "dtype": "object",
         "stats": {
          "unique_count": 4,
          "nan_count": 0,
          "categories": [
           {
            "name": "8124",
            "count": 1
           },
           {
            "name": "4",
            "count": 1
           },
           {
            "name": "2 others",
            "count": 2
           }
          ]
         }
        },
        {
         "name": "ring-number",
         "dtype": "object",
         "stats": {
          "unique_count": 4,
          "nan_count": 0,
          "categories": [
           {
            "name": "8124",
            "count": 1
           },
           {
            "name": "3",
            "count": 1
           },
           {
            "name": "2 others",
            "count": 2
           }
          ]
         }
        },
        {
         "name": "ring-type",
         "dtype": "object",
         "stats": {
          "unique_count": 4,
          "nan_count": 0,
          "categories": [
           {
            "name": "8124",
            "count": 1
           },
           {
            "name": "5",
            "count": 1
           },
           {
            "name": "2 others",
            "count": 2
           }
          ]
         }
        },
        {
         "name": "spore-print-color",
         "dtype": "object",
         "stats": {
          "unique_count": 4,
          "nan_count": 0,
          "categories": [
           {
            "name": "8124",
            "count": 1
           },
           {
            "name": "9",
            "count": 1
           },
           {
            "name": "2 others",
            "count": 2
           }
          ]
         }
        },
        {
         "name": "population",
         "dtype": "object",
         "stats": {
          "unique_count": 4,
          "nan_count": 0,
          "categories": [
           {
            "name": "8124",
            "count": 1
           },
           {
            "name": "6",
            "count": 1
           },
           {
            "name": "2 others",
            "count": 2
           }
          ]
         }
        },
        {
         "name": "habitat",
         "dtype": "object",
         "stats": {
          "unique_count": 4,
          "nan_count": 0,
          "categories": [
           {
            "name": "8124",
            "count": 1
           },
           {
            "name": "7",
            "count": 1
           },
           {
            "name": "2 others",
            "count": 2
           }
          ]
         }
        },
        {
         "name": "_deepnote_index_column",
         "dtype": "object"
        }
       ],
       "rows": [
        {
         "class": "8124",
         "cap-shape": "8124",
         "cap-surface": "8124",
         "cap-color": "8124",
         "bruises": "8124",
         "odor": "8124",
         "gill-attachment": "8124",
         "gill-spacing": "8124",
         "gill-size": "8124",
         "gill-color": "8124",
         "stalk-shape": "8124",
         "stalk-root": "8124",
         "stalk-surface-above-ring": "8124",
         "stalk-surface-below-ring": "8124",
         "stalk-color-above-ring": "8124",
         "stalk-color-below-ring": "8124",
         "veil-type": "8124",
         "veil-color": "8124",
         "ring-number": "8124",
         "ring-type": "8124",
         "spore-print-color": "8124",
         "population": "8124",
         "habitat": "8124",
         "_deepnote_index_column": "count"
        },
        {
         "class": "2",
         "cap-shape": "6",
         "cap-surface": "4",
         "cap-color": "10",
         "bruises": "2",
         "odor": "9",
         "gill-attachment": "2",
         "gill-spacing": "2",
         "gill-size": "2",
         "gill-color": "12",
         "stalk-shape": "2",
         "stalk-root": "5",
         "stalk-surface-above-ring": "4",
         "stalk-surface-below-ring": "4",
         "stalk-color-above-ring": "9",
         "stalk-color-below-ring": "9",
         "veil-type": "1",
         "veil-color": "4",
         "ring-number": "3",
         "ring-type": "5",
         "spore-print-color": "9",
         "population": "6",
         "habitat": "7",
         "_deepnote_index_column": "unique"
        },
        {
         "class": "e",
         "cap-shape": "x",
         "cap-surface": "y",
         "cap-color": "n",
         "bruises": "f",
         "odor": "n",
         "gill-attachment": "f",
         "gill-spacing": "c",
         "gill-size": "b",
         "gill-color": "b",
         "stalk-shape": "t",
         "stalk-root": "b",
         "stalk-surface-above-ring": "s",
         "stalk-surface-below-ring": "s",
         "stalk-color-above-ring": "w",
         "stalk-color-below-ring": "w",
         "veil-type": "p",
         "veil-color": "w",
         "ring-number": "o",
         "ring-type": "p",
         "spore-print-color": "w",
         "population": "v",
         "habitat": "d",
         "_deepnote_index_column": "top"
        },
        {
         "class": "4208",
         "cap-shape": "3656",
         "cap-surface": "3244",
         "cap-color": "2284",
         "bruises": "4748",
         "odor": "3528",
         "gill-attachment": "7914",
         "gill-spacing": "6812",
         "gill-size": "5612",
         "gill-color": "1728",
         "stalk-shape": "4608",
         "stalk-root": "3776",
         "stalk-surface-above-ring": "5176",
         "stalk-surface-below-ring": "4936",
         "stalk-color-above-ring": "4464",
         "stalk-color-below-ring": "4384",
         "veil-type": "8124",
         "veil-color": "7924",
         "ring-number": "7488",
         "ring-type": "3968",
         "spore-print-color": "2388",
         "population": "4040",
         "habitat": "3148",
         "_deepnote_index_column": "freq"
        }
       ]
      },
      "text/plain": "       class cap-shape cap-surface cap-color bruises  odor gill-attachment  \\\ncount   8124      8124        8124      8124    8124  8124            8124   \nunique     2         6           4        10       2     9               2   \ntop        e         x           y         n       f     n               f   \nfreq    4208      3656        3244      2284    4748  3528            7914   \n\n       gill-spacing gill-size gill-color  ... stalk-surface-below-ring  \\\ncount          8124      8124       8124  ...                     8124   \nunique            2         2         12  ...                        4   \ntop               c         b          b  ...                        s   \nfreq           6812      5612       1728  ...                     4936   \n\n       stalk-color-above-ring stalk-color-below-ring veil-type veil-color  \\\ncount                    8124                   8124      8124       8124   \nunique                      9                      9         1          4   \ntop                         w                      w         p          w   \nfreq                     4464                   4384      8124       7924   \n\n       ring-number ring-type spore-print-color population habitat  \ncount         8124      8124              8124       8124    8124  \nunique           3         5                 9          6       7  \ntop              o         p                 w          v       d  \nfreq          7488      3968              2388       4040    3148  \n\n[4 rows x 23 columns]",
      "text/html": "<div>\n<style scoped>\n    .dataframe tbody tr th:only-of-type {\n        vertical-align: middle;\n    }\n\n    .dataframe tbody tr th {\n        vertical-align: top;\n    }\n\n    .dataframe thead th {\n        text-align: right;\n    }\n</style>\n<table border=\"1\" class=\"dataframe\">\n  <thead>\n    <tr style=\"text-align: right;\">\n      <th></th>\n      <th>class</th>\n      <th>cap-shape</th>\n      <th>cap-surface</th>\n      <th>cap-color</th>\n      <th>bruises</th>\n      <th>odor</th>\n      <th>gill-attachment</th>\n      <th>gill-spacing</th>\n      <th>gill-size</th>\n      <th>gill-color</th>\n      <th>...</th>\n      <th>stalk-surface-below-ring</th>\n      <th>stalk-color-above-ring</th>\n      <th>stalk-color-below-ring</th>\n      <th>veil-type</th>\n      <th>veil-color</th>\n      <th>ring-number</th>\n      <th>ring-type</th>\n      <th>spore-print-color</th>\n      <th>population</th>\n      <th>habitat</th>\n    </tr>\n  </thead>\n  <tbody>\n    <tr>\n      <th>count</th>\n      <td>8124</td>\n      <td>8124</td>\n      <td>8124</td>\n      <td>8124</td>\n      <td>8124</td>\n      <td>8124</td>\n      <td>8124</td>\n      <td>8124</td>\n      <td>8124</td>\n      <td>8124</td>\n      <td>...</td>\n      <td>8124</td>\n      <td>8124</td>\n      <td>8124</td>\n      <td>8124</td>\n      <td>8124</td>\n      <td>8124</td>\n      <td>8124</td>\n      <td>8124</td>\n      <td>8124</td>\n      <td>8124</td>\n    </tr>\n    <tr>\n      <th>unique</th>\n      <td>2</td>\n      <td>6</td>\n      <td>4</td>\n      <td>10</td>\n      <td>2</td>\n      <td>9</td>\n      <td>2</td>\n      <td>2</td>\n      <td>2</td>\n      <td>12</td>\n      <td>...</td>\n      <td>4</td>\n      <td>9</td>\n      <td>9</td>\n      <td>1</td>\n      <td>4</td>\n      <td>3</td>\n      <td>5</td>\n      <td>9</td>\n      <td>6</td>\n      <td>7</td>\n    </tr>\n    <tr>\n      <th>top</th>\n      <td>e</td>\n      <td>x</td>\n      <td>y</td>\n      <td>n</td>\n      <td>f</td>\n      <td>n</td>\n      <td>f</td>\n      <td>c</td>\n      <td>b</td>\n      <td>b</td>\n      <td>...</td>\n      <td>s</td>\n      <td>w</td>\n      <td>w</td>\n      <td>p</td>\n      <td>w</td>\n      <td>o</td>\n      <td>p</td>\n      <td>w</td>\n      <td>v</td>\n      <td>d</td>\n    </tr>\n    <tr>\n      <th>freq</th>\n      <td>4208</td>\n      <td>3656</td>\n      <td>3244</td>\n      <td>2284</td>\n      <td>4748</td>\n      <td>3528</td>\n      <td>7914</td>\n      <td>6812</td>\n      <td>5612</td>\n      <td>1728</td>\n      <td>...</td>\n      <td>4936</td>\n      <td>4464</td>\n      <td>4384</td>\n      <td>8124</td>\n      <td>7924</td>\n      <td>7488</td>\n      <td>3968</td>\n      <td>2388</td>\n      <td>4040</td>\n      <td>3148</td>\n    </tr>\n  </tbody>\n</table>\n<p>4 rows × 23 columns</p>\n</div>"
     },
     "metadata": {}
    }
   ]
  },
  {
   "cell_type": "code",
   "metadata": {
    "cell_id": "a34fc23483d74016baf8b25947183214",
    "tags": [],
    "deepnote_to_be_reexecuted": false,
    "source_hash": "f9fad9c9",
    "execution_start": 1648645249301,
    "execution_millis": 459,
    "deepnote_cell_type": "code",
    "deepnote_cell_height": 118,
    "deepnote_output_heights": [
     21
    ]
   },
   "source": "mushroom_df['class'].unique()",
   "execution_count": 5,
   "outputs": [
    {
     "output_type": "execute_result",
     "execution_count": 5,
     "data": {
      "text/plain": "array(['p', 'e'], dtype=object)"
     },
     "metadata": {}
    }
   ]
  },
  {
   "cell_type": "code",
   "metadata": {
    "cell_id": "e46525fd5f104a5fa7f7ff2e26859a76",
    "tags": [],
    "deepnote_to_be_reexecuted": false,
    "source_hash": "7c3061f6",
    "execution_start": 1648645249349,
    "execution_millis": 418,
    "deepnote_cell_type": "code",
    "deepnote_cell_height": 175,
    "deepnote_output_heights": [
     78
    ]
   },
   "source": "mushroom_df.groupby('class').size()",
   "execution_count": 6,
   "outputs": [
    {
     "output_type": "execute_result",
     "execution_count": 6,
     "data": {
      "text/plain": "class\ne    4208\np    3916\ndtype: int64"
     },
     "metadata": {}
    }
   ]
  },
  {
   "cell_type": "code",
   "metadata": {
    "cell_id": "9236ce265247462ca226b2f78b2b7cb8",
    "tags": [],
    "deepnote_to_be_reexecuted": false,
    "source_hash": "91dedf85",
    "execution_start": 1648645249350,
    "execution_millis": 417,
    "deepnote_cell_type": "code",
    "deepnote_cell_height": 555,
    "deepnote_output_heights": [
     458
    ]
   },
   "source": "mushroom_df.isna().sum()",
   "execution_count": 7,
   "outputs": [
    {
     "output_type": "execute_result",
     "execution_count": 7,
     "data": {
      "text/plain": "class                       0\ncap-shape                   0\ncap-surface                 0\ncap-color                   0\nbruises                     0\nodor                        0\ngill-attachment             0\ngill-spacing                0\ngill-size                   0\ngill-color                  0\nstalk-shape                 0\nstalk-root                  0\nstalk-surface-above-ring    0\nstalk-surface-below-ring    0\nstalk-color-above-ring      0\nstalk-color-below-ring      0\nveil-type                   0\nveil-color                  0\nring-number                 0\nring-type                   0\nspore-print-color           0\npopulation                  0\nhabitat                     0\ndtype: int64"
     },
     "metadata": {}
    }
   ]
  },
  {
   "cell_type": "code",
   "metadata": {
    "cell_id": "5ae44267ae6d4b2d96b3fa4b6058dd5e",
    "tags": [],
    "deepnote_to_be_reexecuted": false,
    "source_hash": "6d22aacb",
    "execution_start": 1648645249350,
    "execution_millis": 417,
    "deepnote_cell_type": "code",
    "deepnote_cell_height": 710
   },
   "source": "mushroom_df.drop_duplicates(inplace=True)\nmushroom_df.info()",
   "execution_count": 8,
   "outputs": [
    {
     "name": "stdout",
     "text": "<class 'pandas.core.frame.DataFrame'>\nInt64Index: 8124 entries, 0 to 8123\nData columns (total 23 columns):\n #   Column                    Non-Null Count  Dtype \n---  ------                    --------------  ----- \n 0   class                     8124 non-null   object\n 1   cap-shape                 8124 non-null   object\n 2   cap-surface               8124 non-null   object\n 3   cap-color                 8124 non-null   object\n 4   bruises                   8124 non-null   object\n 5   odor                      8124 non-null   object\n 6   gill-attachment           8124 non-null   object\n 7   gill-spacing              8124 non-null   object\n 8   gill-size                 8124 non-null   object\n 9   gill-color                8124 non-null   object\n 10  stalk-shape               8124 non-null   object\n 11  stalk-root                8124 non-null   object\n 12  stalk-surface-above-ring  8124 non-null   object\n 13  stalk-surface-below-ring  8124 non-null   object\n 14  stalk-color-above-ring    8124 non-null   object\n 15  stalk-color-below-ring    8124 non-null   object\n 16  veil-type                 8124 non-null   object\n 17  veil-color                8124 non-null   object\n 18  ring-number               8124 non-null   object\n 19  ring-type                 8124 non-null   object\n 20  spore-print-color         8124 non-null   object\n 21  population                8124 non-null   object\n 22  habitat                   8124 non-null   object\ndtypes: object(23)\nmemory usage: 1.5+ MB\n",
     "output_type": "stream"
    }
   ]
  },
  {
   "cell_type": "code",
   "metadata": {
    "cell_id": "46997fd0c1214351a658bb910af93812",
    "tags": [],
    "deepnote_to_be_reexecuted": false,
    "source_hash": "4c75b33e",
    "execution_start": 1648645249398,
    "execution_millis": 471,
    "deepnote_cell_type": "code",
    "deepnote_cell_height": 750,
    "deepnote_output_heights": [
     527
    ]
   },
   "source": "labels = ['Edible', 'Poisonous']\nvalues = [mushroom_df.describe()['class']['freq'], mushroom_df.describe()['class']['count']-mushroom_df.describe()['class']['freq']]\ncolors = ['green', 'red']\n\nfig = go.Figure(data=[go.Pie(labels=labels, values=values, opacity=0.8)])\nfig.update_traces(textinfo='percent+label', marker=dict(line=dict(color='#000000', width=2), colors=colors))\nfig.update_layout(title_text='Distribution of the Mushrooms by their Classes', title_x=0.5, title_font=dict(size=28))\nfig.show()",
   "execution_count": 9,
   "outputs": [
    {
     "data": {
      "text/html": "<html>\n<head><meta charset=\"utf-8\" /></head>\n<body>\n    <div>            <script src=\"https://cdnjs.cloudflare.com/ajax/libs/mathjax/2.7.5/MathJax.js?config=TeX-AMS-MML_SVG\"></script><script type=\"text/javascript\">if (window.MathJax) {MathJax.Hub.Config({SVG: {font: \"STIX-Web\"}});}</script>                <script type=\"text/javascript\">window.PlotlyConfig = {MathJaxConfig: 'local'};</script>\n        <script src=\"https://cdn.plot.ly/plotly-2.9.0.min.js\"></script>                <div id=\"5c1903b4-648a-4ae4-92a2-1544fc752918\" class=\"plotly-graph-div\" style=\"height:525px; width:100%;\"></div>            <script type=\"text/javascript\">                                    window.PLOTLYENV=window.PLOTLYENV || {};                                    if (document.getElementById(\"5c1903b4-648a-4ae4-92a2-1544fc752918\")) {                    Plotly.newPlot(                        \"5c1903b4-648a-4ae4-92a2-1544fc752918\",                        [{\"labels\":[\"Edible\",\"Poisonous\"],\"opacity\":0.8,\"values\":[4208,3916],\"type\":\"pie\",\"marker\":{\"line\":{\"color\":\"#000000\",\"width\":2},\"colors\":[\"green\",\"red\"]},\"textinfo\":\"percent+label\"}],                        {\"template\":{\"data\":{\"bar\":[{\"error_x\":{\"color\":\"#2a3f5f\"},\"error_y\":{\"color\":\"#2a3f5f\"},\"marker\":{\"line\":{\"color\":\"#E5ECF6\",\"width\":0.5},\"pattern\":{\"fillmode\":\"overlay\",\"size\":10,\"solidity\":0.2}},\"type\":\"bar\"}],\"barpolar\":[{\"marker\":{\"line\":{\"color\":\"#E5ECF6\",\"width\":0.5},\"pattern\":{\"fillmode\":\"overlay\",\"size\":10,\"solidity\":0.2}},\"type\":\"barpolar\"}],\"carpet\":[{\"aaxis\":{\"endlinecolor\":\"#2a3f5f\",\"gridcolor\":\"white\",\"linecolor\":\"white\",\"minorgridcolor\":\"white\",\"startlinecolor\":\"#2a3f5f\"},\"baxis\":{\"endlinecolor\":\"#2a3f5f\",\"gridcolor\":\"white\",\"linecolor\":\"white\",\"minorgridcolor\":\"white\",\"startlinecolor\":\"#2a3f5f\"},\"type\":\"carpet\"}],\"choropleth\":[{\"colorbar\":{\"outlinewidth\":0,\"ticks\":\"\"},\"type\":\"choropleth\"}],\"contour\":[{\"colorbar\":{\"outlinewidth\":0,\"ticks\":\"\"},\"colorscale\":[[0.0,\"#0d0887\"],[0.1111111111111111,\"#46039f\"],[0.2222222222222222,\"#7201a8\"],[0.3333333333333333,\"#9c179e\"],[0.4444444444444444,\"#bd3786\"],[0.5555555555555556,\"#d8576b\"],[0.6666666666666666,\"#ed7953\"],[0.7777777777777778,\"#fb9f3a\"],[0.8888888888888888,\"#fdca26\"],[1.0,\"#f0f921\"]],\"type\":\"contour\"}],\"contourcarpet\":[{\"colorbar\":{\"outlinewidth\":0,\"ticks\":\"\"},\"type\":\"contourcarpet\"}],\"heatmap\":[{\"colorbar\":{\"outlinewidth\":0,\"ticks\":\"\"},\"colorscale\":[[0.0,\"#0d0887\"],[0.1111111111111111,\"#46039f\"],[0.2222222222222222,\"#7201a8\"],[0.3333333333333333,\"#9c179e\"],[0.4444444444444444,\"#bd3786\"],[0.5555555555555556,\"#d8576b\"],[0.6666666666666666,\"#ed7953\"],[0.7777777777777778,\"#fb9f3a\"],[0.8888888888888888,\"#fdca26\"],[1.0,\"#f0f921\"]],\"type\":\"heatmap\"}],\"heatmapgl\":[{\"colorbar\":{\"outlinewidth\":0,\"ticks\":\"\"},\"colorscale\":[[0.0,\"#0d0887\"],[0.1111111111111111,\"#46039f\"],[0.2222222222222222,\"#7201a8\"],[0.3333333333333333,\"#9c179e\"],[0.4444444444444444,\"#bd3786\"],[0.5555555555555556,\"#d8576b\"],[0.6666666666666666,\"#ed7953\"],[0.7777777777777778,\"#fb9f3a\"],[0.8888888888888888,\"#fdca26\"],[1.0,\"#f0f921\"]],\"type\":\"heatmapgl\"}],\"histogram\":[{\"marker\":{\"pattern\":{\"fillmode\":\"overlay\",\"size\":10,\"solidity\":0.2}},\"type\":\"histogram\"}],\"histogram2d\":[{\"colorbar\":{\"outlinewidth\":0,\"ticks\":\"\"},\"colorscale\":[[0.0,\"#0d0887\"],[0.1111111111111111,\"#46039f\"],[0.2222222222222222,\"#7201a8\"],[0.3333333333333333,\"#9c179e\"],[0.4444444444444444,\"#bd3786\"],[0.5555555555555556,\"#d8576b\"],[0.6666666666666666,\"#ed7953\"],[0.7777777777777778,\"#fb9f3a\"],[0.8888888888888888,\"#fdca26\"],[1.0,\"#f0f921\"]],\"type\":\"histogram2d\"}],\"histogram2dcontour\":[{\"colorbar\":{\"outlinewidth\":0,\"ticks\":\"\"},\"colorscale\":[[0.0,\"#0d0887\"],[0.1111111111111111,\"#46039f\"],[0.2222222222222222,\"#7201a8\"],[0.3333333333333333,\"#9c179e\"],[0.4444444444444444,\"#bd3786\"],[0.5555555555555556,\"#d8576b\"],[0.6666666666666666,\"#ed7953\"],[0.7777777777777778,\"#fb9f3a\"],[0.8888888888888888,\"#fdca26\"],[1.0,\"#f0f921\"]],\"type\":\"histogram2dcontour\"}],\"mesh3d\":[{\"colorbar\":{\"outlinewidth\":0,\"ticks\":\"\"},\"type\":\"mesh3d\"}],\"parcoords\":[{\"line\":{\"colorbar\":{\"outlinewidth\":0,\"ticks\":\"\"}},\"type\":\"parcoords\"}],\"pie\":[{\"automargin\":true,\"type\":\"pie\"}],\"scatter\":[{\"marker\":{\"colorbar\":{\"outlinewidth\":0,\"ticks\":\"\"}},\"type\":\"scatter\"}],\"scatter3d\":[{\"line\":{\"colorbar\":{\"outlinewidth\":0,\"ticks\":\"\"}},\"marker\":{\"colorbar\":{\"outlinewidth\":0,\"ticks\":\"\"}},\"type\":\"scatter3d\"}],\"scattercarpet\":[{\"marker\":{\"colorbar\":{\"outlinewidth\":0,\"ticks\":\"\"}},\"type\":\"scattercarpet\"}],\"scattergeo\":[{\"marker\":{\"colorbar\":{\"outlinewidth\":0,\"ticks\":\"\"}},\"type\":\"scattergeo\"}],\"scattergl\":[{\"marker\":{\"colorbar\":{\"outlinewidth\":0,\"ticks\":\"\"}},\"type\":\"scattergl\"}],\"scattermapbox\":[{\"marker\":{\"colorbar\":{\"outlinewidth\":0,\"ticks\":\"\"}},\"type\":\"scattermapbox\"}],\"scatterpolar\":[{\"marker\":{\"colorbar\":{\"outlinewidth\":0,\"ticks\":\"\"}},\"type\":\"scatterpolar\"}],\"scatterpolargl\":[{\"marker\":{\"colorbar\":{\"outlinewidth\":0,\"ticks\":\"\"}},\"type\":\"scatterpolargl\"}],\"scatterternary\":[{\"marker\":{\"colorbar\":{\"outlinewidth\":0,\"ticks\":\"\"}},\"type\":\"scatterternary\"}],\"surface\":[{\"colorbar\":{\"outlinewidth\":0,\"ticks\":\"\"},\"colorscale\":[[0.0,\"#0d0887\"],[0.1111111111111111,\"#46039f\"],[0.2222222222222222,\"#7201a8\"],[0.3333333333333333,\"#9c179e\"],[0.4444444444444444,\"#bd3786\"],[0.5555555555555556,\"#d8576b\"],[0.6666666666666666,\"#ed7953\"],[0.7777777777777778,\"#fb9f3a\"],[0.8888888888888888,\"#fdca26\"],[1.0,\"#f0f921\"]],\"type\":\"surface\"}],\"table\":[{\"cells\":{\"fill\":{\"color\":\"#EBF0F8\"},\"line\":{\"color\":\"white\"}},\"header\":{\"fill\":{\"color\":\"#C8D4E3\"},\"line\":{\"color\":\"white\"}},\"type\":\"table\"}]},\"layout\":{\"annotationdefaults\":{\"arrowcolor\":\"#2a3f5f\",\"arrowhead\":0,\"arrowwidth\":1},\"autotypenumbers\":\"strict\",\"coloraxis\":{\"colorbar\":{\"outlinewidth\":0,\"ticks\":\"\"}},\"colorscale\":{\"diverging\":[[0,\"#8e0152\"],[0.1,\"#c51b7d\"],[0.2,\"#de77ae\"],[0.3,\"#f1b6da\"],[0.4,\"#fde0ef\"],[0.5,\"#f7f7f7\"],[0.6,\"#e6f5d0\"],[0.7,\"#b8e186\"],[0.8,\"#7fbc41\"],[0.9,\"#4d9221\"],[1,\"#276419\"]],\"sequential\":[[0.0,\"#0d0887\"],[0.1111111111111111,\"#46039f\"],[0.2222222222222222,\"#7201a8\"],[0.3333333333333333,\"#9c179e\"],[0.4444444444444444,\"#bd3786\"],[0.5555555555555556,\"#d8576b\"],[0.6666666666666666,\"#ed7953\"],[0.7777777777777778,\"#fb9f3a\"],[0.8888888888888888,\"#fdca26\"],[1.0,\"#f0f921\"]],\"sequentialminus\":[[0.0,\"#0d0887\"],[0.1111111111111111,\"#46039f\"],[0.2222222222222222,\"#7201a8\"],[0.3333333333333333,\"#9c179e\"],[0.4444444444444444,\"#bd3786\"],[0.5555555555555556,\"#d8576b\"],[0.6666666666666666,\"#ed7953\"],[0.7777777777777778,\"#fb9f3a\"],[0.8888888888888888,\"#fdca26\"],[1.0,\"#f0f921\"]]},\"colorway\":[\"#636efa\",\"#EF553B\",\"#00cc96\",\"#ab63fa\",\"#FFA15A\",\"#19d3f3\",\"#FF6692\",\"#B6E880\",\"#FF97FF\",\"#FECB52\"],\"font\":{\"color\":\"#2a3f5f\"},\"geo\":{\"bgcolor\":\"white\",\"lakecolor\":\"white\",\"landcolor\":\"#E5ECF6\",\"showlakes\":true,\"showland\":true,\"subunitcolor\":\"white\"},\"hoverlabel\":{\"align\":\"left\"},\"hovermode\":\"closest\",\"mapbox\":{\"style\":\"light\"},\"paper_bgcolor\":\"white\",\"plot_bgcolor\":\"#E5ECF6\",\"polar\":{\"angularaxis\":{\"gridcolor\":\"white\",\"linecolor\":\"white\",\"ticks\":\"\"},\"bgcolor\":\"#E5ECF6\",\"radialaxis\":{\"gridcolor\":\"white\",\"linecolor\":\"white\",\"ticks\":\"\"}},\"scene\":{\"xaxis\":{\"backgroundcolor\":\"#E5ECF6\",\"gridcolor\":\"white\",\"gridwidth\":2,\"linecolor\":\"white\",\"showbackground\":true,\"ticks\":\"\",\"zerolinecolor\":\"white\"},\"yaxis\":{\"backgroundcolor\":\"#E5ECF6\",\"gridcolor\":\"white\",\"gridwidth\":2,\"linecolor\":\"white\",\"showbackground\":true,\"ticks\":\"\",\"zerolinecolor\":\"white\"},\"zaxis\":{\"backgroundcolor\":\"#E5ECF6\",\"gridcolor\":\"white\",\"gridwidth\":2,\"linecolor\":\"white\",\"showbackground\":true,\"ticks\":\"\",\"zerolinecolor\":\"white\"}},\"shapedefaults\":{\"line\":{\"color\":\"#2a3f5f\"}},\"ternary\":{\"aaxis\":{\"gridcolor\":\"white\",\"linecolor\":\"white\",\"ticks\":\"\"},\"baxis\":{\"gridcolor\":\"white\",\"linecolor\":\"white\",\"ticks\":\"\"},\"bgcolor\":\"#E5ECF6\",\"caxis\":{\"gridcolor\":\"white\",\"linecolor\":\"white\",\"ticks\":\"\"}},\"title\":{\"x\":0.05},\"xaxis\":{\"automargin\":true,\"gridcolor\":\"white\",\"linecolor\":\"white\",\"ticks\":\"\",\"title\":{\"standoff\":15},\"zerolinecolor\":\"white\",\"zerolinewidth\":2},\"yaxis\":{\"automargin\":true,\"gridcolor\":\"white\",\"linecolor\":\"white\",\"ticks\":\"\",\"title\":{\"standoff\":15},\"zerolinecolor\":\"white\",\"zerolinewidth\":2}}},\"title\":{\"font\":{\"size\":28},\"text\":\"Distribution of the Mushrooms by their Classes\",\"x\":0.5}},                        {\"responsive\": true}                    ).then(function(){\n                            \nvar gd = document.getElementById('5c1903b4-648a-4ae4-92a2-1544fc752918');\nvar x = new MutationObserver(function (mutations, observer) {{\n        var display = window.getComputedStyle(gd).display;\n        if (!display || display === 'none') {{\n            console.log([gd, 'removed!']);\n            Plotly.purge(gd);\n            observer.disconnect();\n        }}\n}});\n\n// Listen for the removal of the full notebook cells\nvar notebookContainer = gd.closest('#notebook-container');\nif (notebookContainer) {{\n    x.observe(notebookContainer, {childList: true});\n}}\n\n// Listen for the clearing of the current output cell\nvar outputEl = gd.closest('.output');\nif (outputEl) {{\n    x.observe(outputEl, {childList: true});\n}}\n\n                        })                };                            </script>        </div>\n</body>\n</html>"
     },
     "metadata": {},
     "output_type": "display_data"
    }
   ]
  },
  {
   "cell_type": "code",
   "metadata": {
    "cell_id": "e75e9c0ee0144d8782ebe46bddab8815",
    "tags": [],
    "deepnote_to_be_reexecuted": false,
    "source_hash": "5ccb0981",
    "execution_start": 1648645249882,
    "execution_millis": 523,
    "deepnote_cell_type": "code",
    "deepnote_cell_height": 1019.671875,
    "deepnote_output_heights": [
     21,
     474.671875
    ]
   },
   "source": "plt.figure(figsize=(15, 8))\nsplot = sns.countplot(data=mushroom_df, x='cap-shape',\n                      hue='class',\n                      order=mushroom_df['cap-shape'].value_counts().index,\n                      palette=['red', 'forestgreen'],\n                      edgecolor=(0, 0, 0),\n                      linewidth=2)\n                      \nsplot.set_xticklabels(['Convex', 'Flat', 'Knobbed', 'Bell', 'Sunken', 'Conical'])\n\nfor p in splot.patches:\n    splot.annotate(format(p.get_height(), '.1f'),\n                   (p.get_x() + p.get_width() / 2., p.get_height()),\n                   ha='center', va='center',\n                   xytext=(0, 9),\n                   textcoords='offset points')\n                   \nplt.legend(['Poisonous', 'Edible'], loc='upper right')\nplt.ylabel('Number of the Mushrooms', fontsize=14)\nplt.xlabel('Types of the Cap Shapes of the Mushrooms', fontsize=14)\nplt.xticks(fontsize=12)\nplt.yticks(fontsize=12)\nplt.title('Distribution of the Mushrooms by their Classes and Cap Shapes', fontsize=20)",
   "execution_count": 10,
   "outputs": [
    {
     "output_type": "execute_result",
     "execution_count": 10,
     "data": {
      "text/plain": "Text(0.5, 1.0, 'Distribution of the Mushrooms by their Classes and Cap Shapes')"
     },
     "metadata": {}
    },
    {
     "data": {
      "text/plain": "<Figure size 1080x576 with 1 Axes>",
      "image/png": "[encoded data removed]"
     },
     "metadata": {
      "needs_background": "light",
      "image/png": {
       "width": 906,
       "height": 508
      }
     },
     "output_type": "display_data"
    }
   ]
  },
  {
   "cell_type": "code",
   "metadata": {
    "cell_id": "551b87194eac45b38a97310feab06f84",
    "tags": [],
    "deepnote_to_be_reexecuted": false,
    "source_hash": "b5cdce97",
    "execution_start": 1648645250419,
    "execution_millis": 382,
    "deepnote_cell_type": "code",
    "deepnote_cell_height": 1019.671875,
    "deepnote_output_heights": [
     21,
     474.671875
    ]
   },
   "source": "plt.figure(figsize=(15, 8))\nsplot = sns.countplot(data=mushroom_df, x='cap-surface',\n                      hue='class',\n                      order=mushroom_df['cap-surface'].value_counts().index,\n                      palette=['red', 'forestgreen'],\n                      edgecolor=(0, 0, 0),\n                      linewidth=2)\n                      \nsplot.set_xticklabels(['Scaly', 'Smooth', 'Fibrous', 'Grooves'])\n\nfor p in splot.patches:\n    splot.annotate(format(p.get_height(), '.1f'),\n                   (p.get_x() + p.get_width() / 2., p.get_height()),\n                   ha='center', va='center',\n                   xytext=(0, 9),\n                   textcoords='offset points')\n                   \nplt.legend(['Poisonous', 'Edible'], loc='upper right')\nplt.ylabel('Number of the Mushrooms', fontsize=14)\nplt.xlabel('Types of the Cap Surfaces of the Mushrooms', fontsize=14)\nplt.xticks(fontsize=12)\nplt.yticks(fontsize=12)\nplt.title('Distribution of the Mushrooms by their Classes and Cap Surfaces', fontsize=20)",
   "execution_count": 11,
   "outputs": [
    {
     "output_type": "execute_result",
     "execution_count": 11,
     "data": {
      "text/plain": "Text(0.5, 1.0, 'Distribution of the Mushrooms by their Classes and Cap Surfaces')"
     },
     "metadata": {}
    },
    {
     "data": {
      "text/plain": "<Figure size 1080x576 with 1 Axes>",
      "image/png": "[encoded data removed]"
     },
     "metadata": {
      "needs_background": "light",
      "image/png": {
       "width": 906,
       "height": 508
      }
     },
     "output_type": "display_data"
    }
   ]
  },
  {
   "cell_type": "code",
   "metadata": {
    "cell_id": "f8d3bfd1115548d1bbfe6c55ebc7f133",
    "tags": [],
    "deepnote_to_be_reexecuted": false,
    "source_hash": "497d68b0",
    "execution_start": 1648645250809,
    "execution_millis": 405,
    "deepnote_cell_type": "code",
    "deepnote_cell_height": 1019.671875,
    "deepnote_output_heights": [
     21,
     474.671875
    ]
   },
   "source": "plt.figure(figsize=(15, 8))\nsplot = sns.countplot(data=mushroom_df, x='cap-color',\n                      hue='class',\n                      order=mushroom_df['cap-color'].value_counts().index,\n                      palette=['red', 'forestgreen'],\n                      edgecolor=(0, 0, 0),\n                      linewidth=2)\n                      \nsplot.set_xticklabels(['Brown', 'Gray', 'Red', 'Yellow', 'White', 'Buff', 'Pink', 'Cinnamon', 'Purple', 'Green'])\n\nfor p in splot.patches:\n    splot.annotate(format(p.get_height(), '.1f'),\n                   (p.get_x() + p.get_width() / 2., p.get_height()),\n                   ha='center', va='center',\n                   xytext=(0, 9),\n                   textcoords='offset points')\n                   \nplt.legend(['Poisonous', 'Edible'], loc='upper right')\nplt.ylabel('Number of the Mushrooms', fontsize=14)\nplt.xlabel('The Cap Colors of the Mushrooms', fontsize=14)\nplt.xticks(fontsize=12)\nplt.yticks(fontsize=12)\nplt.title('Distribution of the Mushrooms by their Classes and Cap Colors', fontsize=20)",
   "execution_count": 12,
   "outputs": [
    {
     "output_type": "execute_result",
     "execution_count": 12,
     "data": {
      "text/plain": "Text(0.5, 1.0, 'Distribution of the Mushrooms by their Classes and Cap Colors')"
     },
     "metadata": {}
    },
    {
     "data": {
      "text/plain": "<Figure size 1080x576 with 1 Axes>",
      "image/png": "[encoded data removed]"
     },
     "metadata": {
      "needs_background": "light",
      "image/png": {
       "width": 906,
       "height": 508
      }
     },
     "output_type": "display_data"
    }
   ]
  },
  {
   "cell_type": "code",
   "metadata": {
    "cell_id": "6fc953c449684ab0a89294c463c88dbe",
    "tags": [],
    "deepnote_to_be_reexecuted": false,
    "source_hash": "d170c87b",
    "execution_start": 1648645251223,
    "execution_millis": 279,
    "deepnote_cell_type": "code",
    "deepnote_cell_height": 1019.671875,
    "deepnote_output_heights": [
     21,
     474.671875
    ]
   },
   "source": "plt.figure(figsize=(15, 8))\nsplot = sns.countplot(data=mushroom_df, x='bruises',\n                      hue='class',\n                      order=mushroom_df['bruises'].value_counts().index,\n                      palette=['red', 'forestgreen'],\n                      edgecolor=(0, 0, 0),\n                      linewidth=2)\n                      \nsplot.set_xticklabels(['Mushrooms without Bruises', 'Mushrooms with Bruises'])\n\nfor p in splot.patches:\n    splot.annotate(format(p.get_height(), '.1f'),\n                   (p.get_x() + p.get_width() / 2., p.get_height()),\n                   ha='center', va='center',\n                   xytext=(0, 9),\n                   textcoords='offset points')\n                   \nplt.legend(['Poisonous', 'Edible'], loc='upper right')\nplt.ylabel('Number of the Mushrooms', fontsize=14)\nplt.xlabel('Mushrooms by having Bruises', fontsize=14)\nplt.xticks(fontsize=12)\nplt.yticks(fontsize=12)\nplt.title('Distribution of the Mushrooms by their Classes and Bruises', fontsize=20)",
   "execution_count": 13,
   "outputs": [
    {
     "output_type": "execute_result",
     "execution_count": 13,
     "data": {
      "text/plain": "Text(0.5, 1.0, 'Distribution of the Mushrooms by their Classes and Bruises')"
     },
     "metadata": {}
    },
    {
     "data": {
      "text/plain": "<Figure size 1080x576 with 1 Axes>",
      "image/png": "[encoded data removed]"
     },
     "metadata": {
      "needs_background": "light",
      "image/png": {
       "width": 906,
       "height": 508
      }
     },
     "output_type": "display_data"
    }
   ]
  },
  {
   "cell_type": "code",
   "metadata": {
    "cell_id": "6ff0970a0e2c48e5ac2358b1dfcefaab",
    "tags": [],
    "deepnote_to_be_reexecuted": false,
    "source_hash": "155daecf",
    "execution_start": 1648645251512,
    "execution_millis": 746,
    "deepnote_cell_type": "code",
    "deepnote_cell_height": 1038,
    "deepnote_output_heights": [
     21,
     474.671875
    ]
   },
   "source": "plt.figure(figsize=(15, 8))\nsplot = sns.countplot(data=mushroom_df, x='odor',\n                      hue='class',\n                      order=mushroom_df['odor'].value_counts().index,\n                      palette=['red', 'forestgreen'],\n                      edgecolor=(0, 0, 0),\n                      linewidth=2)\n                      \nsplot.set_xticklabels(['No Odor', 'Foul', 'Fishy', 'Spicy', 'Anise', 'Almond', 'Pungent',\n                       'Creosote', 'Musty'])\n\nfor p in splot.patches:\n    splot.annotate(format(p.get_height(), '.1f'),\n                   (p.get_x() + p.get_width() / 2., p.get_height()),\n                   ha='center', va='center',\n                   xytext=(0, 9),\n                   textcoords='offset points')\n                   \nplt.legend(['Poisonous', 'Edible'], loc='upper right')\nplt.ylabel('Number of the Mushrooms', fontsize=14)\nplt.xlabel('Odor of the Mushrooms', fontsize=14)\nplt.xticks(fontsize=12)\nplt.yticks(fontsize=12)\nplt.title('Distribution of the Mushrooms by their Classes and Odor', fontsize=20)",
   "execution_count": 14,
   "outputs": [
    {
     "output_type": "execute_result",
     "execution_count": 14,
     "data": {
      "text/plain": "Text(0.5, 1.0, 'Distribution of the Mushrooms by their Classes and Odor')"
     },
     "metadata": {}
    },
    {
     "data": {
      "text/plain": "<Figure size 1080x576 with 1 Axes>",
      "image/png": "[encoded data removed]"
     },
     "metadata": {
      "needs_background": "light",
      "image/png": {
       "width": 906,
       "height": 508
      }
     },
     "output_type": "display_data"
    }
   ]
  },
  {
   "cell_type": "code",
   "metadata": {
    "cell_id": "cba061346d124117977a98cd53d4ebf1",
    "tags": [],
    "deepnote_to_be_reexecuted": false,
    "source_hash": "13a1a3e8",
    "execution_start": 1648645251960,
    "execution_millis": 502,
    "deepnote_cell_type": "code",
    "deepnote_cell_height": 1002,
    "deepnote_output_heights": [
     21,
     474.671875
    ]
   },
   "source": "plt.figure(figsize=(15, 8))\nsplot = sns.countplot(data=mushroom_df, x='habitat',\n                      hue='class',\n                      order=mushroom_df['habitat'].value_counts().index,\n                      palette=['red', 'forestgreen'],\n                      edgecolor=(0, 0, 0),\n                      linewidth=2)\n\nsplot.set_xticklabels(['Woods', 'Grasses', 'Paths', 'Leaves', 'Urban', 'Meadows', 'Waste'])\n\nfor p in splot.patches:\n    splot.annotate(format(p.get_height(), '.1f'),\n                   (p.get_x() + p.get_width() / 2., p.get_height()),\n                   ha='center', va='center',\n                   xytext=(0, 9),\n                   textcoords='offset points')\nplt.legend(['Poisonous', 'Edible'], loc='upper right')\nplt.ylabel('Number of the Mushrooms', fontsize=14)\nplt.xlabel('Habitats', fontsize=14)\nplt.xticks(fontsize=12)\nplt.yticks(fontsize=12)\nplt.title('Distribution of the Mushrooms by their Classes and Habitats', fontsize=20)",
   "execution_count": 15,
   "outputs": [
    {
     "output_type": "execute_result",
     "execution_count": 15,
     "data": {
      "text/plain": "Text(0.5, 1.0, 'Distribution of the Mushrooms by their Classes and Habitats')"
     },
     "metadata": {}
    },
    {
     "data": {
      "text/plain": "<Figure size 1080x576 with 1 Axes>",
      "image/png": "[encoded data removed]"
     },
     "metadata": {
      "needs_background": "light",
      "image/png": {
       "width": 906,
       "height": 508
      }
     },
     "output_type": "display_data"
    }
   ]
  },
  {
   "cell_type": "code",
   "metadata": {
    "cell_id": "7ad76e7f797149f88d499d289763b237",
    "tags": [],
    "deepnote_to_be_reexecuted": false,
    "source_hash": "446b98d9",
    "execution_start": 1648645897251,
    "execution_millis": 3786,
    "deepnote_cell_type": "code",
    "deepnote_cell_height": 268,
    "deepnote_output_heights": [
     null,
     21
    ]
   },
   "source": "# Checking correlation between features \ncorr_mat = mushroom_df.apply(lambda x : pd.factorize(x)[0]).corr(method='pearson', min_periods=1)\nplt.figure(figsize=(20,20))  \ncmap = colors.ListedColormap([\"#682F2F\", \"#9E726F\", \"#D6B2B1\", \"#B9C0C9\", \"#9F8A78\", \"#F3AB60\"])\nsns.heatmap(corr_mat,annot=True, cmap=cmap, center=0)",
   "execution_count": 78,
   "outputs": [
    {
     "output_type": "execute_result",
     "execution_count": 78,
     "data": {
      "text/plain": "<AxesSubplot:>"
     },
     "metadata": {}
    },
    {
     "data": {
      "text/plain": "<Figure size 1440x1440 with 2 Axes>",
      "image/png": "[encoded data removed]"
     },
     "metadata": {
      "image/png": {
       "width": 1177,
       "height": 1234
      }
     },
     "output_type": "display_data"
    }
   ]
  },
  {
   "cell_type": "markdown",
   "source": "The correlation matrix give us the tip that the posionous effect of the mushroom can be linked to his size and spacing.",
   "metadata": {
    "cell_id": "fd0878b2a882440aa1aa86ed9681138c",
    "tags": [],
    "deepnote_cell_type": "markdown",
    "deepnote_cell_height": 52
   }
  },
  {
   "cell_type": "markdown",
   "source": "# Train Test Split",
   "metadata": {
    "cell_id": "72a5b9ee3b8a4b619f51ce41cab74dba",
    "tags": [],
    "is_collapsed": false,
    "deepnote_cell_type": "text-cell-h1"
   }
  },
  {
   "cell_type": "code",
   "metadata": {
    "cell_id": "b477a28697ac486baa72c21e241ccd3c",
    "tags": [],
    "deepnote_to_be_reexecuted": false,
    "source_hash": "11329277",
    "execution_start": 1648645252421,
    "execution_millis": 107,
    "deepnote_cell_type": "code",
    "deepnote_cell_height": 483
   },
   "source": "# We start by encoding our categorial variables to make them numerical\nLE=LabelEncoder()\nfor cols in mushroom_df.columns:\n    mushroom_df[cols] = LE.fit_transform(mushroom_df[cols])\n \nmushroom_df.head()",
   "execution_count": 17,
   "outputs": [
    {
     "output_type": "execute_result",
     "execution_count": 17,
     "data": {
      "application/vnd.deepnote.dataframe.v3+json": {
       "column_count": 23,
       "row_count": 5,
       "columns": [
        {
         "name": "class",
         "dtype": "int64",
         "stats": {
          "unique_count": 2,
          "nan_count": 0,
          "min": "0",
          "max": "1",
          "histogram": [
           {
            "bin_start": 0,
            "bin_end": 0.1,
            "count": 3
           },
           {
            "bin_start": 0.1,
            "bin_end": 0.2,
            "count": 0
           },
           {
            "bin_start": 0.2,
            "bin_end": 0.30000000000000004,
            "count": 0
           },
           {
            "bin_start": 0.30000000000000004,
            "bin_end": 0.4,
            "count": 0
           },
           {
            "bin_start": 0.4,
            "bin_end": 0.5,
            "count": 0
           },
           {
            "bin_start": 0.5,
            "bin_end": 0.6000000000000001,
            "count": 0
           },
           {
            "bin_start": 0.6000000000000001,
            "bin_end": 0.7000000000000001,
            "count": 0
           },
           {
            "bin_start": 0.7000000000000001,
            "bin_end": 0.8,
            "count": 0
           },
           {
            "bin_start": 0.8,
            "bin_end": 0.9,
            "count": 0
           },
           {
            "bin_start": 0.9,
            "bin_end": 1,
            "count": 2
           }
          ]
         }
        },
        {
         "name": "cap-shape",
         "dtype": "int64",
         "stats": {
          "unique_count": 2,
          "nan_count": 0,
          "min": "0",
          "max": "5",
          "histogram": [
           {
            "bin_start": 0,
            "bin_end": 0.5,
            "count": 1
           },
           {
            "bin_start": 0.5,
            "bin_end": 1,
            "count": 0
           },
           {
            "bin_start": 1,
            "bin_end": 1.5,
            "count": 0
           },
           {
            "bin_start": 1.5,
            "bin_end": 2,
            "count": 0
           },
           {
            "bin_start": 2,
            "bin_end": 2.5,
            "count": 0
           },
           {
            "bin_start": 2.5,
            "bin_end": 3,
            "count": 0
           },
           {
            "bin_start": 3,
            "bin_end": 3.5,
            "count": 0
           },
           {
            "bin_start": 3.5,
            "bin_end": 4,
            "count": 0
           },
           {
            "bin_start": 4,
            "bin_end": 4.5,
            "count": 0
           },
           {
            "bin_start": 4.5,
            "bin_end": 5,
            "count": 4
           }
          ]
         }
        },
        {
         "name": "cap-surface",
         "dtype": "int64",
         "stats": {
          "unique_count": 2,
          "nan_count": 0,
          "min": "2",
          "max": "3",
          "histogram": [
           {
            "bin_start": 2,
            "bin_end": 2.1,
            "count": 4
           },
           {
            "bin_start": 2.1,
            "bin_end": 2.2,
            "count": 0
           },
           {
            "bin_start": 2.2,
            "bin_end": 2.3,
            "count": 0
           },
           {
            "bin_start": 2.3,
            "bin_end": 2.4,
            "count": 0
           },
           {
            "bin_start": 2.4,
            "bin_end": 2.5,
            "count": 0
           },
           {
            "bin_start": 2.5,
            "bin_end": 2.6,
            "count": 0
           },
           {
            "bin_start": 2.6,
            "bin_end": 2.7,
            "count": 0
           },
           {
            "bin_start": 2.7,
            "bin_end": 2.8,
            "count": 0
           },
           {
            "bin_start": 2.8,
            "bin_end": 2.9,
            "count": 0
           },
           {
            "bin_start": 2.9,
            "bin_end": 3,
            "count": 1
           }
          ]
         }
        },
        {
         "name": "cap-color",
         "dtype": "int64",
         "stats": {
          "unique_count": 4,
          "nan_count": 0,
          "min": "3",
          "max": "9",
          "histogram": [
           {
            "bin_start": 3,
            "bin_end": 3.6,
            "count": 1
           },
           {
            "bin_start": 3.6,
            "bin_end": 4.2,
            "count": 1
           },
           {
            "bin_start": 4.2,
            "bin_end": 4.8,
            "count": 0
           },
           {
            "bin_start": 4.8,
            "bin_end": 5.4,
            "count": 0
           },
           {
            "bin_start": 5.4,
            "bin_end": 6,
            "count": 0
           },
           {
            "bin_start": 6,
            "bin_end": 6.6,
            "count": 0
           },
           {
            "bin_start": 6.6,
            "bin_end": 7.2,
            "count": 0
           },
           {
            "bin_start": 7.2,
            "bin_end": 7.8,
            "count": 0
           },
           {
            "bin_start": 7.8,
            "bin_end": 8.399999999999999,
            "count": 2
           },
           {
            "bin_start": 8.399999999999999,
            "bin_end": 9,
            "count": 1
           }
          ]
         }
        },
        {
         "name": "bruises",
         "dtype": "int64",
         "stats": {
          "unique_count": 2,
          "nan_count": 0,
          "min": "0",
          "max": "1",
          "histogram": [
           {
            "bin_start": 0,
            "bin_end": 0.1,
            "count": 1
           },
           {
            "bin_start": 0.1,
            "bin_end": 0.2,
            "count": 0
           },
           {
            "bin_start": 0.2,
            "bin_end": 0.30000000000000004,
            "count": 0
           },
           {
            "bin_start": 0.30000000000000004,
            "bin_end": 0.4,
            "count": 0
           },
           {
            "bin_start": 0.4,
            "bin_end": 0.5,
            "count": 0
           },
           {
            "bin_start": 0.5,
            "bin_end": 0.6000000000000001,
            "count": 0
           },
           {
            "bin_start": 0.6000000000000001,
            "bin_end": 0.7000000000000001,
            "count": 0
           },
           {
            "bin_start": 0.7000000000000001,
            "bin_end": 0.8,
            "count": 0
           },
           {
            "bin_start": 0.8,
            "bin_end": 0.9,
            "count": 0
           },
           {
            "bin_start": 0.9,
            "bin_end": 1,
            "count": 4
           }
          ]
         }
        },
        {
         "name": "odor",
         "dtype": "int64",
         "stats": {
          "unique_count": 4,
          "nan_count": 0,
          "min": "0",
          "max": "6",
          "histogram": [
           {
            "bin_start": 0,
            "bin_end": 0.6,
            "count": 1
           },
           {
            "bin_start": 0.6,
            "bin_end": 1.2,
            "count": 0
           },
           {
            "bin_start": 1.2,
            "bin_end": 1.7999999999999998,
            "count": 0
           },
           {
            "bin_start": 1.7999999999999998,
            "bin_end": 2.4,
            "count": 0
           },
           {
            "bin_start": 2.4,
            "bin_end": 3,
            "count": 0
           },
           {
            "bin_start": 3,
            "bin_end": 3.5999999999999996,
            "count": 1
           },
           {
            "bin_start": 3.5999999999999996,
            "bin_end": 4.2,
            "count": 0
           },
           {
            "bin_start": 4.2,
            "bin_end": 4.8,
            "count": 0
           },
           {
            "bin_start": 4.8,
            "bin_end": 5.3999999999999995,
            "count": 1
           },
           {
            "bin_start": 5.3999999999999995,
            "bin_end": 6,
            "count": 2
           }
          ]
         }
        },
        {
         "name": "gill-attachment",
         "dtype": "int64",
         "stats": {
          "unique_count": 1,
          "nan_count": 0,
          "min": "1",
          "max": "1",
          "histogram": [
           {
            "bin_start": 0.5,
            "bin_end": 0.6,
            "count": 0
           },
           {
            "bin_start": 0.6,
            "bin_end": 0.7,
            "count": 0
           },
           {
            "bin_start": 0.7,
            "bin_end": 0.8,
            "count": 0
           },
           {
            "bin_start": 0.8,
            "bin_end": 0.9,
            "count": 0
           },
           {
            "bin_start": 0.9,
            "bin_end": 1,
            "count": 0
           },
           {
            "bin_start": 1,
            "bin_end": 1.1,
            "count": 5
           },
           {
            "bin_start": 1.1,
            "bin_end": 1.2000000000000002,
            "count": 0
           },
           {
            "bin_start": 1.2000000000000002,
            "bin_end": 1.3,
            "count": 0
           },
           {
            "bin_start": 1.3,
            "bin_end": 1.4,
            "count": 0
           },
           {
            "bin_start": 1.4,
            "bin_end": 1.5,
            "count": 0
           }
          ]
         }
        },
        {
         "name": "gill-spacing",
         "dtype": "int64",
         "stats": {
          "unique_count": 2,
          "nan_count": 0,
          "min": "0",
          "max": "1",
          "histogram": [
           {
            "bin_start": 0,
            "bin_end": 0.1,
            "count": 4
           },
           {
            "bin_start": 0.1,
            "bin_end": 0.2,
            "count": 0
           },
           {
            "bin_start": 0.2,
            "bin_end": 0.30000000000000004,
            "count": 0
           },
           {
            "bin_start": 0.30000000000000004,
            "bin_end": 0.4,
            "count": 0
           },
           {
            "bin_start": 0.4,
            "bin_end": 0.5,
            "count": 0
           },
           {
            "bin_start": 0.5,
            "bin_end": 0.6000000000000001,
            "count": 0
           },
           {
            "bin_start": 0.6000000000000001,
            "bin_end": 0.7000000000000001,
            "count": 0
           },
           {
            "bin_start": 0.7000000000000001,
            "bin_end": 0.8,
            "count": 0
           },
           {
            "bin_start": 0.8,
            "bin_end": 0.9,
            "count": 0
           },
           {
            "bin_start": 0.9,
            "bin_end": 1,
            "count": 1
           }
          ]
         }
        },
        {
         "name": "gill-size",
         "dtype": "int64",
         "stats": {
          "unique_count": 2,
          "nan_count": 0,
          "min": "0",
          "max": "1",
          "histogram": [
           {
            "bin_start": 0,
            "bin_end": 0.1,
            "count": 3
           },
           {
            "bin_start": 0.1,
            "bin_end": 0.2,
            "count": 0
           },
           {
            "bin_start": 0.2,
            "bin_end": 0.30000000000000004,
            "count": 0
           },
           {
            "bin_start": 0.30000000000000004,
            "bin_end": 0.4,
            "count": 0
           },
           {
            "bin_start": 0.4,
            "bin_end": 0.5,
            "count": 0
           },
           {
            "bin_start": 0.5,
            "bin_end": 0.6000000000000001,
            "count": 0
           },
           {
            "bin_start": 0.6000000000000001,
            "bin_end": 0.7000000000000001,
            "count": 0
           },
           {
            "bin_start": 0.7000000000000001,
            "bin_end": 0.8,
            "count": 0
           },
           {
            "bin_start": 0.8,
            "bin_end": 0.9,
            "count": 0
           },
           {
            "bin_start": 0.9,
            "bin_end": 1,
            "count": 2
           }
          ]
         }
        },
        {
         "name": "gill-color",
         "dtype": "int64",
         "stats": {
          "unique_count": 2,
          "nan_count": 0,
          "min": "4",
          "max": "5",
          "histogram": [
           {
            "bin_start": 4,
            "bin_end": 4.1,
            "count": 3
           },
           {
            "bin_start": 4.1,
            "bin_end": 4.2,
            "count": 0
           },
           {
            "bin_start": 4.2,
            "bin_end": 4.3,
            "count": 0
           },
           {
            "bin_start": 4.3,
            "bin_end": 4.4,
            "count": 0
           },
           {
            "bin_start": 4.4,
            "bin_end": 4.5,
            "count": 0
           },
           {
            "bin_start": 4.5,
            "bin_end": 4.6,
            "count": 0
           },
           {
            "bin_start": 4.6,
            "bin_end": 4.7,
            "count": 0
           },
           {
            "bin_start": 4.7,
            "bin_end": 4.8,
            "count": 0
           },
           {
            "bin_start": 4.8,
            "bin_end": 4.9,
            "count": 0
           },
           {
            "bin_start": 4.9,
            "bin_end": 5,
            "count": 2
           }
          ]
         }
        },
        {
         "name": "stalk-shape",
         "dtype": "int64",
         "stats": {
          "unique_count": 2,
          "nan_count": 0,
          "min": "0",
          "max": "1",
          "histogram": [
           {
            "bin_start": 0,
            "bin_end": 0.1,
            "count": 4
           },
           {
            "bin_start": 0.1,
            "bin_end": 0.2,
            "count": 0
           },
           {
            "bin_start": 0.2,
            "bin_end": 0.30000000000000004,
            "count": 0
           },
           {
            "bin_start": 0.30000000000000004,
            "bin_end": 0.4,
            "count": 0
           },
           {
            "bin_start": 0.4,
            "bin_end": 0.5,
            "count": 0
           },
           {
            "bin_start": 0.5,
            "bin_end": 0.6000000000000001,
            "count": 0
           },
           {
            "bin_start": 0.6000000000000001,
            "bin_end": 0.7000000000000001,
            "count": 0
           },
           {
            "bin_start": 0.7000000000000001,
            "bin_end": 0.8,
            "count": 0
           },
           {
            "bin_start": 0.8,
            "bin_end": 0.9,
            "count": 0
           },
           {
            "bin_start": 0.9,
            "bin_end": 1,
            "count": 1
           }
          ]
         }
        },
        {
         "name": "stalk-root",
         "dtype": "int64",
         "stats": {
          "unique_count": 2,
          "nan_count": 0,
          "min": "2",
          "max": "3",
          "histogram": [
           {
            "bin_start": 2,
            "bin_end": 2.1,
            "count": 2
           },
           {
            "bin_start": 2.1,
            "bin_end": 2.2,
            "count": 0
           },
           {
            "bin_start": 2.2,
            "bin_end": 2.3,
            "count": 0
           },
           {
            "bin_start": 2.3,
            "bin_end": 2.4,
            "count": 0
           },
           {
            "bin_start": 2.4,
            "bin_end": 2.5,
            "count": 0
           },
           {
            "bin_start": 2.5,
            "bin_end": 2.6,
            "count": 0
           },
           {
            "bin_start": 2.6,
            "bin_end": 2.7,
            "count": 0
           },
           {
            "bin_start": 2.7,
            "bin_end": 2.8,
            "count": 0
           },
           {
            "bin_start": 2.8,
            "bin_end": 2.9,
            "count": 0
           },
           {
            "bin_start": 2.9,
            "bin_end": 3,
            "count": 3
           }
          ]
         }
        },
        {
         "name": "stalk-surface-above-ring",
         "dtype": "int64",
         "stats": {
          "unique_count": 1,
          "nan_count": 0,
          "min": "2",
          "max": "2",
          "histogram": [
           {
            "bin_start": 1.5,
            "bin_end": 1.6,
            "count": 0
           },
           {
            "bin_start": 1.6,
            "bin_end": 1.7,
            "count": 0
           },
           {
            "bin_start": 1.7,
            "bin_end": 1.8,
            "count": 0
           },
           {
            "bin_start": 1.8,
            "bin_end": 1.9,
            "count": 0
           },
           {
            "bin_start": 1.9,
            "bin_end": 2,
            "count": 0
           },
           {
            "bin_start": 2,
            "bin_end": 2.1,
            "count": 5
           },
           {
            "bin_start": 2.1,
            "bin_end": 2.2,
            "count": 0
           },
           {
            "bin_start": 2.2,
            "bin_end": 2.3,
            "count": 0
           },
           {
            "bin_start": 2.3,
            "bin_end": 2.4,
            "count": 0
           },
           {
            "bin_start": 2.4,
            "bin_end": 2.5,
            "count": 0
           }
          ]
         }
        },
        {
         "name": "stalk-surface-below-ring",
         "dtype": "int64",
         "stats": {
          "unique_count": 1,
          "nan_count": 0,
          "min": "2",
          "max": "2",
          "histogram": [
           {
            "bin_start": 1.5,
            "bin_end": 1.6,
            "count": 0
           },
           {
            "bin_start": 1.6,
            "bin_end": 1.7,
            "count": 0
           },
           {
            "bin_start": 1.7,
            "bin_end": 1.8,
            "count": 0
           },
           {
            "bin_start": 1.8,
            "bin_end": 1.9,
            "count": 0
           },
           {
            "bin_start": 1.9,
            "bin_end": 2,
            "count": 0
           },
           {
            "bin_start": 2,
            "bin_end": 2.1,
            "count": 5
           },
           {
            "bin_start": 2.1,
            "bin_end": 2.2,
            "count": 0
           },
           {
            "bin_start": 2.2,
            "bin_end": 2.3,
            "count": 0
           },
           {
            "bin_start": 2.3,
            "bin_end": 2.4,
            "count": 0
           },
           {
            "bin_start": 2.4,
            "bin_end": 2.5,
            "count": 0
           }
          ]
         }
        },
        {
         "name": "stalk-color-above-ring",
         "dtype": "int64",
         "stats": {
          "unique_count": 1,
          "nan_count": 0,
          "min": "7",
          "max": "7",
          "histogram": [
           {
            "bin_start": 6.5,
            "bin_end": 6.6,
            "count": 0
           },
           {
            "bin_start": 6.6,
            "bin_end": 6.7,
            "count": 0
           },
           {
            "bin_start": 6.7,
            "bin_end": 6.8,
            "count": 0
           },
           {
            "bin_start": 6.8,
            "bin_end": 6.9,
            "count": 0
           },
           {
            "bin_start": 6.9,
            "bin_end": 7,
            "count": 0
           },
           {
            "bin_start": 7,
            "bin_end": 7.1,
            "count": 5
           },
           {
            "bin_start": 7.1,
            "bin_end": 7.2,
            "count": 0
           },
           {
            "bin_start": 7.2,
            "bin_end": 7.3,
            "count": 0
           },
           {
            "bin_start": 7.3,
            "bin_end": 7.4,
            "count": 0
           },
           {
            "bin_start": 7.4,
            "bin_end": 7.5,
            "count": 0
           }
          ]
         }
        },
        {
         "name": "stalk-color-below-ring",
         "dtype": "int64",
         "stats": {
          "unique_count": 1,
          "nan_count": 0,
          "min": "7",
          "max": "7",
          "histogram": [
           {
            "bin_start": 6.5,
            "bin_end": 6.6,
            "count": 0
           },
           {
            "bin_start": 6.6,
            "bin_end": 6.7,
            "count": 0
           },
           {
            "bin_start": 6.7,
            "bin_end": 6.8,
            "count": 0
           },
           {
            "bin_start": 6.8,
            "bin_end": 6.9,
            "count": 0
           },
           {
            "bin_start": 6.9,
            "bin_end": 7,
            "count": 0
           },
           {
            "bin_start": 7,
            "bin_end": 7.1,
            "count": 5
           },
           {
            "bin_start": 7.1,
            "bin_end": 7.2,
            "count": 0
           },
           {
            "bin_start": 7.2,
            "bin_end": 7.3,
            "count": 0
           },
           {
            "bin_start": 7.3,
            "bin_end": 7.4,
            "count": 0
           },
           {
            "bin_start": 7.4,
            "bin_end": 7.5,
            "count": 0
           }
          ]
         }
        },
        {
         "name": "veil-type",
         "dtype": "int64",
         "stats": {
          "unique_count": 1,
          "nan_count": 0,
          "min": "0",
          "max": "0",
          "histogram": [
           {
            "bin_start": -0.5,
            "bin_end": -0.4,
            "count": 0
           },
           {
            "bin_start": -0.4,
            "bin_end": -0.3,
            "count": 0
           },
           {
            "bin_start": -0.3,
            "bin_end": -0.19999999999999996,
            "count": 0
           },
           {
            "bin_start": -0.19999999999999996,
            "bin_end": -0.09999999999999998,
            "count": 0
           },
           {
            "bin_start": -0.09999999999999998,
            "bin_end": 0,
            "count": 0
           },
           {
            "bin_start": 0,
            "bin_end": 0.10000000000000009,
            "count": 5
           },
           {
            "bin_start": 0.10000000000000009,
            "bin_end": 0.20000000000000007,
            "count": 0
           },
           {
            "bin_start": 0.20000000000000007,
            "bin_end": 0.30000000000000004,
            "count": 0
           },
           {
            "bin_start": 0.30000000000000004,
            "bin_end": 0.4,
            "count": 0
           },
           {
            "bin_start": 0.4,
            "bin_end": 0.5,
            "count": 0
           }
          ]
         }
        },
        {
         "name": "veil-color",
         "dtype": "int64",
         "stats": {
          "unique_count": 1,
          "nan_count": 0,
          "min": "2",
          "max": "2",
          "histogram": [
           {
            "bin_start": 1.5,
            "bin_end": 1.6,
            "count": 0
           },
           {
            "bin_start": 1.6,
            "bin_end": 1.7,
            "count": 0
           },
           {
            "bin_start": 1.7,
            "bin_end": 1.8,
            "count": 0
           },
           {
            "bin_start": 1.8,
            "bin_end": 1.9,
            "count": 0
           },
           {
            "bin_start": 1.9,
            "bin_end": 2,
            "count": 0
           },
           {
            "bin_start": 2,
            "bin_end": 2.1,
            "count": 5
           },
           {
            "bin_start": 2.1,
            "bin_end": 2.2,
            "count": 0
           },
           {
            "bin_start": 2.2,
            "bin_end": 2.3,
            "count": 0
           },
           {
            "bin_start": 2.3,
            "bin_end": 2.4,
            "count": 0
           },
           {
            "bin_start": 2.4,
            "bin_end": 2.5,
            "count": 0
           }
          ]
         }
        },
        {
         "name": "ring-number",
         "dtype": "int64",
         "stats": {
          "unique_count": 1,
          "nan_count": 0,
          "min": "1",
          "max": "1",
          "histogram": [
           {
            "bin_start": 0.5,
            "bin_end": 0.6,
            "count": 0
           },
           {
            "bin_start": 0.6,
            "bin_end": 0.7,
            "count": 0
           },
           {
            "bin_start": 0.7,
            "bin_end": 0.8,
            "count": 0
           },
           {
            "bin_start": 0.8,
            "bin_end": 0.9,
            "count": 0
           },
           {
            "bin_start": 0.9,
            "bin_end": 1,
            "count": 0
           },
           {
            "bin_start": 1,
            "bin_end": 1.1,
            "count": 5
           },
           {
            "bin_start": 1.1,
            "bin_end": 1.2000000000000002,
            "count": 0
           },
           {
            "bin_start": 1.2000000000000002,
            "bin_end": 1.3,
            "count": 0
           },
           {
            "bin_start": 1.3,
            "bin_end": 1.4,
            "count": 0
           },
           {
            "bin_start": 1.4,
            "bin_end": 1.5,
            "count": 0
           }
          ]
         }
        },
        {
         "name": "ring-type",
         "dtype": "int64",
         "stats": {
          "unique_count": 2,
          "nan_count": 0,
          "min": "0",
          "max": "4",
          "histogram": [
           {
            "bin_start": 0,
            "bin_end": 0.4,
            "count": 1
           },
           {
            "bin_start": 0.4,
            "bin_end": 0.8,
            "count": 0
           },
           {
            "bin_start": 0.8,
            "bin_end": 1.2000000000000002,
            "count": 0
           },
           {
            "bin_start": 1.2000000000000002,
            "bin_end": 1.6,
            "count": 0
           },
           {
            "bin_start": 1.6,
            "bin_end": 2,
            "count": 0
           },
           {
            "bin_start": 2,
            "bin_end": 2.4000000000000004,
            "count": 0
           },
           {
            "bin_start": 2.4000000000000004,
            "bin_end": 2.8000000000000003,
            "count": 0
           },
           {
            "bin_start": 2.8000000000000003,
            "bin_end": 3.2,
            "count": 0
           },
           {
            "bin_start": 3.2,
            "bin_end": 3.6,
            "count": 0
           },
           {
            "bin_start": 3.6,
            "bin_end": 4,
            "count": 4
           }
          ]
         }
        },
        {
         "name": "spore-print-color",
         "dtype": "int64",
         "stats": {
          "unique_count": 2,
          "nan_count": 0,
          "min": "2",
          "max": "3",
          "histogram": [
           {
            "bin_start": 2,
            "bin_end": 2.1,
            "count": 2
           },
           {
            "bin_start": 2.1,
            "bin_end": 2.2,
            "count": 0
           },
           {
            "bin_start": 2.2,
            "bin_end": 2.3,
            "count": 0
           },
           {
            "bin_start": 2.3,
            "bin_end": 2.4,
            "count": 0
           },
           {
            "bin_start": 2.4,
            "bin_end": 2.5,
            "count": 0
           },
           {
            "bin_start": 2.5,
            "bin_end": 2.6,
            "count": 0
           },
           {
            "bin_start": 2.6,
            "bin_end": 2.7,
            "count": 0
           },
           {
            "bin_start": 2.7,
            "bin_end": 2.8,
            "count": 0
           },
           {
            "bin_start": 2.8,
            "bin_end": 2.9,
            "count": 0
           },
           {
            "bin_start": 2.9,
            "bin_end": 3,
            "count": 3
           }
          ]
         }
        },
        {
         "name": "population",
         "dtype": "int64",
         "stats": {
          "unique_count": 3,
          "nan_count": 0,
          "min": "0",
          "max": "3",
          "histogram": [
           {
            "bin_start": 0,
            "bin_end": 0.3,
            "count": 1
           },
           {
            "bin_start": 0.3,
            "bin_end": 0.6,
            "count": 0
           },
           {
            "bin_start": 0.6,
            "bin_end": 0.8999999999999999,
            "count": 0
           },
           {
            "bin_start": 0.8999999999999999,
            "bin_end": 1.2,
            "count": 0
           },
           {
            "bin_start": 1.2,
            "bin_end": 1.5,
            "count": 0
           },
           {
            "bin_start": 1.5,
            "bin_end": 1.7999999999999998,
            "count": 0
           },
           {
            "bin_start": 1.7999999999999998,
            "bin_end": 2.1,
            "count": 2
           },
           {
            "bin_start": 2.1,
            "bin_end": 2.4,
            "count": 0
           },
           {
            "bin_start": 2.4,
            "bin_end": 2.6999999999999997,
            "count": 0
           },
           {
            "bin_start": 2.6999999999999997,
            "bin_end": 3,
            "count": 2
           }
          ]
         }
        },
        {
         "name": "habitat",
         "dtype": "int64",
         "stats": {
          "unique_count": 3,
          "nan_count": 0,
          "min": "1",
          "max": "5",
          "histogram": [
           {
            "bin_start": 1,
            "bin_end": 1.4,
            "count": 2
           },
           {
            "bin_start": 1.4,
            "bin_end": 1.8,
            "count": 0
           },
           {
            "bin_start": 1.8,
            "bin_end": 2.2,
            "count": 0
           },
           {
            "bin_start": 2.2,
            "bin_end": 2.6,
            "count": 0
           },
           {
            "bin_start": 2.6,
            "bin_end": 3,
            "count": 0
           },
           {
            "bin_start": 3,
            "bin_end": 3.4000000000000004,
            "count": 1
           },
           {
            "bin_start": 3.4000000000000004,
            "bin_end": 3.8000000000000003,
            "count": 0
           },
           {
            "bin_start": 3.8000000000000003,
            "bin_end": 4.2,
            "count": 0
           },
           {
            "bin_start": 4.2,
            "bin_end": 4.6,
            "count": 0
           },
           {
            "bin_start": 4.6,
            "bin_end": 5,
            "count": 2
           }
          ]
         }
        },
        {
         "name": "_deepnote_index_column",
         "dtype": "int64"
        }
       ],
       "rows": [
        {
         "class": 1,
         "cap-shape": 5,
         "cap-surface": 2,
         "cap-color": 4,
         "bruises": 1,
         "odor": 6,
         "gill-attachment": 1,
         "gill-spacing": 0,
         "gill-size": 1,
         "gill-color": 4,
         "stalk-shape": 0,
         "stalk-root": 3,
         "stalk-surface-above-ring": 2,
         "stalk-surface-below-ring": 2,
         "stalk-color-above-ring": 7,
         "stalk-color-below-ring": 7,
         "veil-type": 0,
         "veil-color": 2,
         "ring-number": 1,
         "ring-type": 4,
         "spore-print-color": 2,
         "population": 3,
         "habitat": 5,
         "_deepnote_index_column": 0
        },
        {
         "class": 0,
         "cap-shape": 5,
         "cap-surface": 2,
         "cap-color": 9,
         "bruises": 1,
         "odor": 0,
         "gill-attachment": 1,
         "gill-spacing": 0,
         "gill-size": 0,
         "gill-color": 4,
         "stalk-shape": 0,
         "stalk-root": 2,
         "stalk-surface-above-ring": 2,
         "stalk-surface-below-ring": 2,
         "stalk-color-above-ring": 7,
         "stalk-color-below-ring": 7,
         "veil-type": 0,
         "veil-color": 2,
         "ring-number": 1,
         "ring-type": 4,
         "spore-print-color": 3,
         "population": 2,
         "habitat": 1,
         "_deepnote_index_column": 1
        },
        {
         "class": 0,
         "cap-shape": 0,
         "cap-surface": 2,
         "cap-color": 8,
         "bruises": 1,
         "odor": 3,
         "gill-attachment": 1,
         "gill-spacing": 0,
         "gill-size": 0,
         "gill-color": 5,
         "stalk-shape": 0,
         "stalk-root": 2,
         "stalk-surface-above-ring": 2,
         "stalk-surface-below-ring": 2,
         "stalk-color-above-ring": 7,
         "stalk-color-below-ring": 7,
         "veil-type": 0,
         "veil-color": 2,
         "ring-number": 1,
         "ring-type": 4,
         "spore-print-color": 3,
         "population": 2,
         "habitat": 3,
         "_deepnote_index_column": 2
        },
        {
         "class": 1,
         "cap-shape": 5,
         "cap-surface": 3,
         "cap-color": 8,
         "bruises": 1,
         "odor": 6,
         "gill-attachment": 1,
         "gill-spacing": 0,
         "gill-size": 1,
         "gill-color": 5,
         "stalk-shape": 0,
         "stalk-root": 3,
         "stalk-surface-above-ring": 2,
         "stalk-surface-below-ring": 2,
         "stalk-color-above-ring": 7,
         "stalk-color-below-ring": 7,
         "veil-type": 0,
         "veil-color": 2,
         "ring-number": 1,
         "ring-type": 4,
         "spore-print-color": 2,
         "population": 3,
         "habitat": 5,
         "_deepnote_index_column": 3
        },
        {
         "class": 0,
         "cap-shape": 5,
         "cap-surface": 2,
         "cap-color": 3,
         "bruises": 0,
         "odor": 5,
         "gill-attachment": 1,
         "gill-spacing": 1,
         "gill-size": 0,
         "gill-color": 4,
         "stalk-shape": 1,
         "stalk-root": 3,
         "stalk-surface-above-ring": 2,
         "stalk-surface-below-ring": 2,
         "stalk-color-above-ring": 7,
         "stalk-color-below-ring": 7,
         "veil-type": 0,
         "veil-color": 2,
         "ring-number": 1,
         "ring-type": 0,
         "spore-print-color": 3,
         "population": 0,
         "habitat": 1,
         "_deepnote_index_column": 4
        }
       ]
      },
      "text/plain": "   class  cap-shape  cap-surface  cap-color  bruises  odor  gill-attachment  \\\n0      1          5            2          4        1     6                1   \n1      0          5            2          9        1     0                1   \n2      0          0            2          8        1     3                1   \n3      1          5            3          8        1     6                1   \n4      0          5            2          3        0     5                1   \n\n   gill-spacing  gill-size  gill-color  ...  stalk-surface-below-ring  \\\n0             0          1           4  ...                         2   \n1             0          0           4  ...                         2   \n2             0          0           5  ...                         2   \n3             0          1           5  ...                         2   \n4             1          0           4  ...                         2   \n\n   stalk-color-above-ring  stalk-color-below-ring  veil-type  veil-color  \\\n0                       7                       7          0           2   \n1                       7                       7          0           2   \n2                       7                       7          0           2   \n3                       7                       7          0           2   \n4                       7                       7          0           2   \n\n   ring-number  ring-type  spore-print-color  population  habitat  \n0            1          4                  2           3        5  \n1            1          4                  3           2        1  \n2            1          4                  3           2        3  \n3            1          4                  2           3        5  \n4            1          0                  3           0        1  \n\n[5 rows x 23 columns]",
      "text/html": "<div>\n<style scoped>\n    .dataframe tbody tr th:only-of-type {\n        vertical-align: middle;\n    }\n\n    .dataframe tbody tr th {\n        vertical-align: top;\n    }\n\n    .dataframe thead th {\n        text-align: right;\n    }\n</style>\n<table border=\"1\" class=\"dataframe\">\n  <thead>\n    <tr style=\"text-align: right;\">\n      <th></th>\n      <th>class</th>\n      <th>cap-shape</th>\n      <th>cap-surface</th>\n      <th>cap-color</th>\n      <th>bruises</th>\n      <th>odor</th>\n      <th>gill-attachment</th>\n      <th>gill-spacing</th>\n      <th>gill-size</th>\n      <th>gill-color</th>\n      <th>...</th>\n      <th>stalk-surface-below-ring</th>\n      <th>stalk-color-above-ring</th>\n      <th>stalk-color-below-ring</th>\n      <th>veil-type</th>\n      <th>veil-color</th>\n      <th>ring-number</th>\n      <th>ring-type</th>\n      <th>spore-print-color</th>\n      <th>population</th>\n      <th>habitat</th>\n    </tr>\n  </thead>\n  <tbody>\n    <tr>\n      <th>0</th>\n      <td>1</td>\n      <td>5</td>\n      <td>2</td>\n      <td>4</td>\n      <td>1</td>\n      <td>6</td>\n      <td>1</td>\n      <td>0</td>\n      <td>1</td>\n      <td>4</td>\n      <td>...</td>\n      <td>2</td>\n      <td>7</td>\n      <td>7</td>\n      <td>0</td>\n      <td>2</td>\n      <td>1</td>\n      <td>4</td>\n      <td>2</td>\n      <td>3</td>\n      <td>5</td>\n    </tr>\n    <tr>\n      <th>1</th>\n      <td>0</td>\n      <td>5</td>\n      <td>2</td>\n      <td>9</td>\n      <td>1</td>\n      <td>0</td>\n      <td>1</td>\n      <td>0</td>\n      <td>0</td>\n      <td>4</td>\n      <td>...</td>\n      <td>2</td>\n      <td>7</td>\n      <td>7</td>\n      <td>0</td>\n      <td>2</td>\n      <td>1</td>\n      <td>4</td>\n      <td>3</td>\n      <td>2</td>\n      <td>1</td>\n    </tr>\n    <tr>\n      <th>2</th>\n      <td>0</td>\n      <td>0</td>\n      <td>2</td>\n      <td>8</td>\n      <td>1</td>\n      <td>3</td>\n      <td>1</td>\n      <td>0</td>\n      <td>0</td>\n      <td>5</td>\n      <td>...</td>\n      <td>2</td>\n      <td>7</td>\n      <td>7</td>\n      <td>0</td>\n      <td>2</td>\n      <td>1</td>\n      <td>4</td>\n      <td>3</td>\n      <td>2</td>\n      <td>3</td>\n    </tr>\n    <tr>\n      <th>3</th>\n      <td>1</td>\n      <td>5</td>\n      <td>3</td>\n      <td>8</td>\n      <td>1</td>\n      <td>6</td>\n      <td>1</td>\n      <td>0</td>\n      <td>1</td>\n      <td>5</td>\n      <td>...</td>\n      <td>2</td>\n      <td>7</td>\n      <td>7</td>\n      <td>0</td>\n      <td>2</td>\n      <td>1</td>\n      <td>4</td>\n      <td>2</td>\n      <td>3</td>\n      <td>5</td>\n    </tr>\n    <tr>\n      <th>4</th>\n      <td>0</td>\n      <td>5</td>\n      <td>2</td>\n      <td>3</td>\n      <td>0</td>\n      <td>5</td>\n      <td>1</td>\n      <td>1</td>\n      <td>0</td>\n      <td>4</td>\n      <td>...</td>\n      <td>2</td>\n      <td>7</td>\n      <td>7</td>\n      <td>0</td>\n      <td>2</td>\n      <td>1</td>\n      <td>0</td>\n      <td>3</td>\n      <td>0</td>\n      <td>1</td>\n    </tr>\n  </tbody>\n</table>\n<p>5 rows × 23 columns</p>\n</div>"
     },
     "metadata": {}
    }
   ]
  },
  {
   "cell_type": "markdown",
   "source": "After LE is applied :\n- Class 0 : Edible\n- Class 1 : Poisonous",
   "metadata": {
    "cell_id": "859a16542b434852b689c83662582bef",
    "tags": [],
    "deepnote_cell_type": "markdown",
    "deepnote_cell_height": 127
   }
  },
  {
   "cell_type": "code",
   "metadata": {
    "cell_id": "c8e874c552124259913700675eeaba44",
    "tags": [],
    "deepnote_to_be_reexecuted": false,
    "source_hash": "d7fb11cb",
    "execution_start": 1648645252527,
    "execution_millis": 31,
    "deepnote_cell_type": "code",
    "deepnote_cell_height": 366
   },
   "source": "# Setting the class as the target variable\nX = mushroom_df.drop(['class'], axis=1)\ny = mushroom_df['class']\n\n# Using only LabelEncoder might confuse our model into thinking that a column has data with some kind of order or hierarchy when we clearly don’t have it. \n# To avoid this, we OneHotEncode columns using get_dummies\ncols = X.columns\nX = pd.get_dummies(X, columns=cols)\n\n# Default values : train_size = 0.75, test_size = 0.25\nX_train, X_test, y_train, y_test = train_test_split(X, y, shuffle=False, stratify=None, random_state=5)\n\nprint(f'Train set shape : {X_train.shape}')\nprint(f'Test set shape : {X_test.shape}')",
   "execution_count": 18,
   "outputs": [
    {
     "name": "stdout",
     "text": "Train set shape : (6093, 117)\nTest set shape : (2031, 117)\n",
     "output_type": "stream"
    }
   ]
  },
  {
   "cell_type": "code",
   "metadata": {
    "cell_id": "4d2245ca8c3d41febd6db0f044863530",
    "tags": [],
    "deepnote_to_be_reexecuted": false,
    "source_hash": "21e0dffe",
    "execution_start": 1648645252575,
    "execution_millis": 6,
    "deepnote_cell_type": "code",
    "deepnote_cell_height": 135
   },
   "source": "# Scaling data between -1 and 1\nstandard_scaler = StandardScaler().fit(X_train)\nX_train = standard_scaler.transform(X_train)\nX_test = standard_scaler.transform(X_test)",
   "execution_count": 19,
   "outputs": []
  },
  {
   "cell_type": "markdown",
   "source": "# Gaussian Naive Bayes",
   "metadata": {
    "cell_id": "5a3f896f3be8454fadedf6e06297f4e6",
    "tags": [],
    "is_collapsed": false,
    "deepnote_cell_type": "text-cell-h1"
   }
  },
  {
   "cell_type": "code",
   "metadata": {
    "cell_id": "f16f26d97048499a9ca6b2ab3f0b8128",
    "tags": [],
    "deepnote_to_be_reexecuted": false,
    "source_hash": "ed2127e8",
    "execution_start": 1648645252584,
    "execution_millis": 19,
    "deepnote_cell_type": "code",
    "deepnote_cell_height": 136,
    "deepnote_output_heights": [
     21
    ]
   },
   "source": "naive_model = GaussianNB()\nnaive_model.fit(X_train, y_train)",
   "execution_count": 20,
   "outputs": [
    {
     "output_type": "execute_result",
     "execution_count": 20,
     "data": {
      "text/plain": "GaussianNB()"
     },
     "metadata": {}
    }
   ]
  },
  {
   "cell_type": "code",
   "metadata": {
    "cell_id": "5eca38fad31a4640a572b9c39154375c",
    "tags": [],
    "deepnote_to_be_reexecuted": false,
    "source_hash": "2005a517",
    "execution_start": 1648645252605,
    "execution_millis": 9,
    "deepnote_cell_type": "code",
    "deepnote_cell_height": 154,
    "deepnote_output_heights": [
     21
    ]
   },
   "source": "y_actu = naive_model.predict_proba(X_test)[:,1]\ny_pred = naive_model.predict(X_test)\nnaive_model.score(X_test, y_pred)",
   "execution_count": 21,
   "outputs": [
    {
     "output_type": "execute_result",
     "execution_count": 21,
     "data": {
      "text/plain": "1.0"
     },
     "metadata": {}
    }
   ]
  },
  {
   "cell_type": "code",
   "metadata": {
    "cell_id": "04afa08ab22c46bfa534dc734278bc9f",
    "tags": [],
    "deepnote_to_be_reexecuted": false,
    "source_hash": "e17a82b5",
    "execution_start": 1648645252615,
    "execution_millis": 43,
    "deepnote_cell_type": "code",
    "deepnote_cell_height": 112
   },
   "source": "print(f'Number of mislabeled points : {(y_test != y_pred).sum()}')",
   "execution_count": 22,
   "outputs": [
    {
     "name": "stdout",
     "text": "Number of mislabeled points : 227\n",
     "output_type": "stream"
    }
   ]
  },
  {
   "cell_type": "code",
   "metadata": {
    "cell_id": "e534585844ce4cbc82dee85c3ca479fb",
    "tags": [],
    "deepnote_to_be_reexecuted": false,
    "source_hash": "269a16ba",
    "execution_start": 1648645252656,
    "execution_millis": 277,
    "deepnote_cell_type": "code",
    "deepnote_cell_height": 154,
    "deepnote_output_heights": [
     21
    ]
   },
   "source": "# Calculating the accuracy score of our naive model\nnaive_score = cross_val_score(naive_model, X, y, cv=10, scoring='accuracy')\nnaive_score.mean()",
   "execution_count": 23,
   "outputs": [
    {
     "output_type": "execute_result",
     "execution_count": 23,
     "data": {
      "text/plain": "0.9147033428462363"
     },
     "metadata": {}
    }
   ]
  },
  {
   "cell_type": "code",
   "metadata": {
    "cell_id": "772d963e8e744eef8a9364e4ea70a239",
    "tags": [],
    "deepnote_to_be_reexecuted": false,
    "source_hash": "a3962581",
    "execution_start": 1648645252922,
    "execution_millis": 34,
    "deepnote_cell_type": "code",
    "deepnote_cell_height": 347
   },
   "source": "# Creating the confusion matrix\nconfusion_matrix = pd.crosstab(y_test, y_pred, rownames=['Actual'], colnames=['Predicted'], margins=True)\nconfusion_matrix",
   "execution_count": 24,
   "outputs": [
    {
     "output_type": "execute_result",
     "execution_count": 24,
     "data": {
      "application/vnd.deepnote.dataframe.v3+json": {
       "column_count": 3,
       "row_count": 3,
       "columns": [
        {
         "name": 0,
         "dtype": "int64",
         "stats": {
          "unique_count": 3,
          "nan_count": 0,
          "min": "43",
          "max": "384",
          "histogram": [
           {
            "bin_start": 43,
            "bin_end": 77.1,
            "count": 1
           },
           {
            "bin_start": 77.1,
            "bin_end": 111.2,
            "count": 0
           },
           {
            "bin_start": 111.2,
            "bin_end": 145.3,
            "count": 0
           },
           {
            "bin_start": 145.3,
            "bin_end": 179.4,
            "count": 0
           },
           {
            "bin_start": 179.4,
            "bin_end": 213.5,
            "count": 0
           },
           {
            "bin_start": 213.5,
            "bin_end": 247.60000000000002,
            "count": 0
           },
           {
            "bin_start": 247.60000000000002,
            "bin_end": 281.70000000000005,
            "count": 0
           },
           {
            "bin_start": 281.70000000000005,
            "bin_end": 315.8,
            "count": 0
           },
           {
            "bin_start": 315.8,
            "bin_end": 349.90000000000003,
            "count": 1
           },
           {
            "bin_start": 349.90000000000003,
            "bin_end": 384,
            "count": 1
           }
          ]
         }
        },
        {
         "name": 1,
         "dtype": "int64",
         "stats": {
          "unique_count": 3,
          "nan_count": 0,
          "min": "184",
          "max": "1647",
          "histogram": [
           {
            "bin_start": 184,
            "bin_end": 330.3,
            "count": 1
           },
           {
            "bin_start": 330.3,
            "bin_end": 476.6,
            "count": 0
           },
           {
            "bin_start": 476.6,
            "bin_end": 622.9000000000001,
            "count": 0
           },
           {
            "bin_start": 622.9000000000001,
            "bin_end": 769.2,
            "count": 0
           },
           {
            "bin_start": 769.2,
            "bin_end": 915.5,
            "count": 0
           },
           {
            "bin_start": 915.5,
            "bin_end": 1061.8000000000002,
            "count": 0
           },
           {
            "bin_start": 1061.8000000000002,
            "bin_end": 1208.1000000000001,
            "count": 0
           },
           {
            "bin_start": 1208.1000000000001,
            "bin_end": 1354.4,
            "count": 0
           },
           {
            "bin_start": 1354.4,
            "bin_end": 1500.7,
            "count": 1
           },
           {
            "bin_start": 1500.7,
            "bin_end": 1647,
            "count": 1
           }
          ]
         }
        },
        {
         "name": "All",
         "dtype": "int64",
         "stats": {
          "unique_count": 3,
          "nan_count": 0,
          "min": "525",
          "max": "2031",
          "histogram": [
           {
            "bin_start": 525,
            "bin_end": 675.6,
            "count": 1
           },
           {
            "bin_start": 675.6,
            "bin_end": 826.2,
            "count": 0
           },
           {
            "bin_start": 826.2,
            "bin_end": 976.8,
            "count": 0
           },
           {
            "bin_start": 976.8,
            "bin_end": 1127.4,
            "count": 0
           },
           {
            "bin_start": 1127.4,
            "bin_end": 1278,
            "count": 0
           },
           {
            "bin_start": 1278,
            "bin_end": 1428.6,
            "count": 0
           },
           {
            "bin_start": 1428.6,
            "bin_end": 1579.2,
            "count": 1
           },
           {
            "bin_start": 1579.2,
            "bin_end": 1729.8,
            "count": 0
           },
           {
            "bin_start": 1729.8,
            "bin_end": 1880.3999999999999,
            "count": 0
           },
           {
            "bin_start": 1880.3999999999999,
            "bin_end": 2031,
            "count": 1
           }
          ]
         }
        },
        {
         "name": "_deepnote_index_column",
         "dtype": "object"
        }
       ],
       "rows": [
        {
         "0": 341,
         "1": 184,
         "All": 525,
         "_deepnote_index_column": "0"
        },
        {
         "0": 43,
         "1": 1463,
         "All": 1506,
         "_deepnote_index_column": "1"
        },
        {
         "0": 384,
         "1": 1647,
         "All": 2031,
         "_deepnote_index_column": "All"
        }
       ]
      },
      "text/plain": "Predicted    0     1   All\nActual                    \n0          341   184   525\n1           43  1463  1506\nAll        384  1647  2031",
      "text/html": "<div>\n<style scoped>\n    .dataframe tbody tr th:only-of-type {\n        vertical-align: middle;\n    }\n\n    .dataframe tbody tr th {\n        vertical-align: top;\n    }\n\n    .dataframe thead th {\n        text-align: right;\n    }\n</style>\n<table border=\"1\" class=\"dataframe\">\n  <thead>\n    <tr style=\"text-align: right;\">\n      <th>Predicted</th>\n      <th>0</th>\n      <th>1</th>\n      <th>All</th>\n    </tr>\n    <tr>\n      <th>Actual</th>\n      <th></th>\n      <th></th>\n      <th></th>\n    </tr>\n  </thead>\n  <tbody>\n    <tr>\n      <th>0</th>\n      <td>341</td>\n      <td>184</td>\n      <td>525</td>\n    </tr>\n    <tr>\n      <th>1</th>\n      <td>43</td>\n      <td>1463</td>\n      <td>1506</td>\n    </tr>\n    <tr>\n      <th>All</th>\n      <td>384</td>\n      <td>1647</td>\n      <td>2031</td>\n    </tr>\n  </tbody>\n</table>\n</div>"
     },
     "metadata": {}
    }
   ]
  },
  {
   "cell_type": "code",
   "metadata": {
    "cell_id": "10865e68909d453cb8e1b339054b17c0",
    "tags": [],
    "deepnote_to_be_reexecuted": false,
    "source_hash": "a2326ce8",
    "execution_start": 1648645252924,
    "execution_millis": 32,
    "deepnote_cell_type": "code",
    "deepnote_cell_height": 380
   },
   "source": "# Some metrics on our classified datas\n# Precision is the ratio of the correctly positive labeled to all positive labeled :  TP/(TP+FP)\n# Recall (or Sensitivity) is the ratio of the correctly positive labeled to all who are positive in reality : TP/(TP+FN)\n# F1-score is the harmonic mean (average) of precision and recall : 2*(Recall * Precision) / (Recall + Precision)\ntarget_names = ['class 0', 'class 1']\nauc_roc = metrics.classification_report(y_test, y_pred, target_names=target_names)\nprint(auc_roc)",
   "execution_count": 25,
   "outputs": [
    {
     "name": "stdout",
     "text": "              precision    recall  f1-score   support\n\n     class 0       0.89      0.65      0.75       525\n     class 1       0.89      0.97      0.93      1506\n\n    accuracy                           0.89      2031\n   macro avg       0.89      0.81      0.84      2031\nweighted avg       0.89      0.89      0.88      2031\n\n",
     "output_type": "stream"
    }
   ]
  },
  {
   "cell_type": "code",
   "metadata": {
    "cell_id": "4a476c45f8074706bc029fa844d8fae0",
    "tags": [],
    "deepnote_to_be_reexecuted": false,
    "source_hash": "dc33b793",
    "execution_start": 1648645252925,
    "execution_millis": 31,
    "deepnote_cell_type": "code",
    "deepnote_cell_height": 166
   },
   "source": "# AUC explain how well the classifier is able to distinguish between all the Positive and the Negative class points correctly\n# The closer to 1 the better it is\nauc_roc = metrics.roc_auc_score(y_test, y_pred)\nprint(auc_roc)",
   "execution_count": 26,
   "outputs": [
    {
     "name": "stdout",
     "text": "0.8104856763422501\n",
     "output_type": "stream"
    }
   ]
  },
  {
   "cell_type": "code",
   "metadata": {
    "cell_id": "4b5d3ec1b0e649bc9887c3b1d8a2f3df",
    "tags": [],
    "deepnote_to_be_reexecuted": false,
    "source_hash": "29a2482d",
    "execution_start": 1648645252954,
    "execution_millis": 14,
    "deepnote_cell_type": "code",
    "deepnote_cell_height": 262,
    "deepnote_output_heights": [
     21
    ]
   },
   "source": "# ROC curve for models\nfpr1, tpr1, thresh1 = roc_curve(y_test, y_actu, pos_label=1)\nroc_auc = auc(fpr1, tpr1)\n\n# ROC curve for tpr = fpr \nrandom_probs = [0 for i in range(len(y_test))]\np_fpr, p_tpr, _ = roc_curve(y_test, random_probs, pos_label=1)\n\nroc_auc",
   "execution_count": 27,
   "outputs": [
    {
     "output_type": "execute_result",
     "execution_count": 27,
     "data": {
      "text/plain": "0.8215879339783723"
     },
     "metadata": {}
    }
   ]
  },
  {
   "cell_type": "code",
   "metadata": {
    "cell_id": "6b66b88fb99642b6ae69efbbdc16b8b2",
    "tags": [],
    "deepnote_to_be_reexecuted": false,
    "source_hash": "2fe32e40",
    "execution_start": 1648645252967,
    "execution_millis": 229,
    "deepnote_cell_type": "code",
    "deepnote_cell_height": 639,
    "deepnote_output_heights": [
     362
    ]
   },
   "source": "# Plot ROC curves\nplt.style.use('seaborn')\nplt.plot(fpr1, tpr1, linestyle='--',color='orange', label = 'AUC = %0.2f' % roc_auc)\nplt.plot(p_fpr, p_tpr, linestyle='--', color='blue')\n\nplt.title('ROC curve')\nplt.xlabel('False Positive Rate')\nplt.ylabel('True Positive rate')\nplt.legend(loc='best')\n\nplt.show()",
   "execution_count": 28,
   "outputs": [
    {
     "data": {
      "text/plain": "<Figure size 576x396 with 1 Axes>",
      "image/png": "[encoded data removed]"
     },
     "metadata": {
      "image/png": {
       "width": 497,
       "height": 360
      }
     },
     "output_type": "display_data"
    }
   ]
  },
  {
   "cell_type": "markdown",
   "source": "# Logistic Regression",
   "metadata": {
    "cell_id": "13d0c385cf734aa0bf2c8d395cabea02",
    "tags": [],
    "is_collapsed": false,
    "deepnote_cell_type": "text-cell-h1"
   }
  },
  {
   "cell_type": "code",
   "metadata": {
    "cell_id": "4e027cf1d3134697b373f6571147c3fd",
    "tags": [],
    "deepnote_to_be_reexecuted": false,
    "source_hash": "9cc9cc65",
    "execution_start": 1648645253194,
    "execution_millis": 203,
    "deepnote_cell_type": "code",
    "deepnote_cell_height": 136,
    "deepnote_output_heights": [
     21
    ]
   },
   "source": "LR_model = LogisticRegression()\nLR_model.fit(X_train, y_train)",
   "execution_count": 29,
   "outputs": [
    {
     "output_type": "execute_result",
     "execution_count": 29,
     "data": {
      "text/plain": "LogisticRegression()"
     },
     "metadata": {}
    }
   ]
  },
  {
   "cell_type": "code",
   "metadata": {
    "cell_id": "baf7f8fe3ec34badb6b952437278b14f",
    "tags": [],
    "deepnote_to_be_reexecuted": false,
    "source_hash": "2506536f",
    "execution_start": 1648645253399,
    "execution_millis": 13,
    "deepnote_cell_type": "code",
    "deepnote_cell_height": 154,
    "deepnote_output_heights": [
     21
    ]
   },
   "source": "y1_actu = LR_model.predict_proba(X_test)[:,1]\ny_pred = LR_model.predict(X_test)\nLR_model.score(X_test, y_pred)",
   "execution_count": 30,
   "outputs": [
    {
     "output_type": "execute_result",
     "execution_count": 30,
     "data": {
      "text/plain": "1.0"
     },
     "metadata": {}
    }
   ]
  },
  {
   "cell_type": "code",
   "metadata": {
    "cell_id": "b37ff6ec468846e180c0dea88ac005ed",
    "tags": [],
    "deepnote_to_be_reexecuted": false,
    "source_hash": "e17a82b5",
    "execution_start": 1648645253412,
    "execution_millis": 28,
    "deepnote_cell_type": "code",
    "deepnote_cell_height": 112
   },
   "source": "print(f'Number of mislabeled points : {(y_test != y_pred).sum()}')",
   "execution_count": 31,
   "outputs": [
    {
     "name": "stdout",
     "text": "Number of mislabeled points : 21\n",
     "output_type": "stream"
    }
   ]
  },
  {
   "cell_type": "code",
   "metadata": {
    "cell_id": "8e74856a418e44d9ab99cf7095671f03",
    "tags": [],
    "deepnote_to_be_reexecuted": false,
    "source_hash": "35b967b1",
    "execution_start": 1648645253422,
    "execution_millis": 6482,
    "deepnote_cell_type": "code",
    "deepnote_cell_height": 154,
    "deepnote_output_heights": [
     21
    ]
   },
   "source": "# Calculating the accuracy score of our LR model\nLR_score = cross_val_score(LR_model, X, y, cv=10, scoring='accuracy')\nLR_score.mean()",
   "execution_count": 32,
   "outputs": [
    {
     "output_type": "execute_result",
     "execution_count": 32,
     "data": {
      "text/plain": "0.9677588327607414"
     },
     "metadata": {}
    }
   ]
  },
  {
   "cell_type": "code",
   "metadata": {
    "cell_id": "05336aeb6b984baa9ac145022450bcb0",
    "tags": [],
    "deepnote_to_be_reexecuted": false,
    "source_hash": "a3962581",
    "execution_start": 1648645259525,
    "execution_millis": 394,
    "deepnote_cell_type": "code",
    "deepnote_cell_height": 347
   },
   "source": "# Creating the confusion matrix\nconfusion_matrix = pd.crosstab(y_test, y_pred, rownames=['Actual'], colnames=['Predicted'], margins=True)\nconfusion_matrix",
   "execution_count": 33,
   "outputs": [
    {
     "output_type": "execute_result",
     "execution_count": 33,
     "data": {
      "application/vnd.deepnote.dataframe.v3+json": {
       "column_count": 3,
       "row_count": 3,
       "columns": [
        {
         "name": 0,
         "dtype": "int64",
         "stats": {
          "unique_count": 3,
          "nan_count": 0,
          "min": "9",
          "max": "522",
          "histogram": [
           {
            "bin_start": 9,
            "bin_end": 60.3,
            "count": 1
           },
           {
            "bin_start": 60.3,
            "bin_end": 111.6,
            "count": 0
           },
           {
            "bin_start": 111.6,
            "bin_end": 162.89999999999998,
            "count": 0
           },
           {
            "bin_start": 162.89999999999998,
            "bin_end": 214.2,
            "count": 0
           },
           {
            "bin_start": 214.2,
            "bin_end": 265.5,
            "count": 0
           },
           {
            "bin_start": 265.5,
            "bin_end": 316.79999999999995,
            "count": 0
           },
           {
            "bin_start": 316.79999999999995,
            "bin_end": 368.09999999999997,
            "count": 0
           },
           {
            "bin_start": 368.09999999999997,
            "bin_end": 419.4,
            "count": 0
           },
           {
            "bin_start": 419.4,
            "bin_end": 470.7,
            "count": 0
           },
           {
            "bin_start": 470.7,
            "bin_end": 522,
            "count": 2
           }
          ]
         }
        },
        {
         "name": 1,
         "dtype": "int64",
         "stats": {
          "unique_count": 3,
          "nan_count": 0,
          "min": "12",
          "max": "1509",
          "histogram": [
           {
            "bin_start": 12,
            "bin_end": 161.7,
            "count": 1
           },
           {
            "bin_start": 161.7,
            "bin_end": 311.4,
            "count": 0
           },
           {
            "bin_start": 311.4,
            "bin_end": 461.09999999999997,
            "count": 0
           },
           {
            "bin_start": 461.09999999999997,
            "bin_end": 610.8,
            "count": 0
           },
           {
            "bin_start": 610.8,
            "bin_end": 760.5,
            "count": 0
           },
           {
            "bin_start": 760.5,
            "bin_end": 910.1999999999999,
            "count": 0
           },
           {
            "bin_start": 910.1999999999999,
            "bin_end": 1059.8999999999999,
            "count": 0
           },
           {
            "bin_start": 1059.8999999999999,
            "bin_end": 1209.6,
            "count": 0
           },
           {
            "bin_start": 1209.6,
            "bin_end": 1359.3,
            "count": 0
           },
           {
            "bin_start": 1359.3,
            "bin_end": 1509,
            "count": 2
           }
          ]
         }
        },
        {
         "name": "All",
         "dtype": "int64",
         "stats": {
          "unique_count": 3,
          "nan_count": 0,
          "min": "525",
          "max": "2031",
          "histogram": [
           {
            "bin_start": 525,
            "bin_end": 675.6,
            "count": 1
           },
           {
            "bin_start": 675.6,
            "bin_end": 826.2,
            "count": 0
           },
           {
            "bin_start": 826.2,
            "bin_end": 976.8,
            "count": 0
           },
           {
            "bin_start": 976.8,
            "bin_end": 1127.4,
            "count": 0
           },
           {
            "bin_start": 1127.4,
            "bin_end": 1278,
            "count": 0
           },
           {
            "bin_start": 1278,
            "bin_end": 1428.6,
            "count": 0
           },
           {
            "bin_start": 1428.6,
            "bin_end": 1579.2,
            "count": 1
           },
           {
            "bin_start": 1579.2,
            "bin_end": 1729.8,
            "count": 0
           },
           {
            "bin_start": 1729.8,
            "bin_end": 1880.3999999999999,
            "count": 0
           },
           {
            "bin_start": 1880.3999999999999,
            "bin_end": 2031,
            "count": 1
           }
          ]
         }
        },
        {
         "name": "_deepnote_index_column",
         "dtype": "object"
        }
       ],
       "rows": [
        {
         "0": 513,
         "1": 12,
         "All": 525,
         "_deepnote_index_column": "0"
        },
        {
         "0": 9,
         "1": 1497,
         "All": 1506,
         "_deepnote_index_column": "1"
        },
        {
         "0": 522,
         "1": 1509,
         "All": 2031,
         "_deepnote_index_column": "All"
        }
       ]
      },
      "text/plain": "Predicted    0     1   All\nActual                    \n0          513    12   525\n1            9  1497  1506\nAll        522  1509  2031",
      "text/html": "<div>\n<style scoped>\n    .dataframe tbody tr th:only-of-type {\n        vertical-align: middle;\n    }\n\n    .dataframe tbody tr th {\n        vertical-align: top;\n    }\n\n    .dataframe thead th {\n        text-align: right;\n    }\n</style>\n<table border=\"1\" class=\"dataframe\">\n  <thead>\n    <tr style=\"text-align: right;\">\n      <th>Predicted</th>\n      <th>0</th>\n      <th>1</th>\n      <th>All</th>\n    </tr>\n    <tr>\n      <th>Actual</th>\n      <th></th>\n      <th></th>\n      <th></th>\n    </tr>\n  </thead>\n  <tbody>\n    <tr>\n      <th>0</th>\n      <td>513</td>\n      <td>12</td>\n      <td>525</td>\n    </tr>\n    <tr>\n      <th>1</th>\n      <td>9</td>\n      <td>1497</td>\n      <td>1506</td>\n    </tr>\n    <tr>\n      <th>All</th>\n      <td>522</td>\n      <td>1509</td>\n      <td>2031</td>\n    </tr>\n  </tbody>\n</table>\n</div>"
     },
     "metadata": {}
    }
   ]
  },
  {
   "cell_type": "code",
   "metadata": {
    "cell_id": "177cf86b2ab946ac94d15cc957519a95",
    "tags": [],
    "deepnote_to_be_reexecuted": false,
    "source_hash": "a2326ce8",
    "execution_start": 1648645259687,
    "execution_millis": 233,
    "deepnote_cell_type": "code",
    "deepnote_cell_height": 380
   },
   "source": "# Some metrics on our classified datas\n# Precision is the ratio of the correctly positive labeled to all positive labeled :  TP/(TP+FP)\n# Recall (or Sensitivity) is the ratio of the correctly positive labeled to all who are positive in reality : TP/(TP+FN)\n# F1-score is the harmonic mean (average) of precision and recall : 2*(Recall * Precision) / (Recall + Precision)\ntarget_names = ['class 0', 'class 1']\nauc_roc = metrics.classification_report(y_test, y_pred, target_names=target_names)\nprint(auc_roc)",
   "execution_count": 34,
   "outputs": [
    {
     "name": "stdout",
     "text": "              precision    recall  f1-score   support\n\n     class 0       0.98      0.98      0.98       525\n     class 1       0.99      0.99      0.99      1506\n\n    accuracy                           0.99      2031\n   macro avg       0.99      0.99      0.99      2031\nweighted avg       0.99      0.99      0.99      2031\n\n",
     "output_type": "stream"
    }
   ]
  },
  {
   "cell_type": "code",
   "metadata": {
    "cell_id": "e32cf60a82f94e099edee508b6cac717",
    "tags": [],
    "deepnote_to_be_reexecuted": false,
    "source_hash": "ace7cfbe",
    "execution_start": 1648645259695,
    "execution_millis": 225,
    "deepnote_cell_type": "code",
    "deepnote_cell_height": 172,
    "deepnote_output_heights": [
     21
    ]
   },
   "source": "# ROC curve for models\nfpr2, tpr2, thresh2 = roc_curve(y_test, y1_actu, pos_label=1)\nroc_auc2 = auc(fpr2, tpr2)\nroc_auc2",
   "execution_count": 35,
   "outputs": [
    {
     "output_type": "execute_result",
     "execution_count": 35,
     "data": {
      "text/plain": "0.9995383545184342"
     },
     "metadata": {}
    }
   ]
  },
  {
   "cell_type": "code",
   "metadata": {
    "cell_id": "df11cf2e732c4cb3b9ef4a1824a3f225",
    "tags": [],
    "deepnote_to_be_reexecuted": false,
    "source_hash": "12a75c60",
    "execution_start": 1648645259743,
    "execution_millis": 228,
    "deepnote_cell_type": "code",
    "deepnote_cell_height": 639,
    "deepnote_output_heights": [
     362
    ]
   },
   "source": "# Plot ROC curves\nplt.style.use('seaborn')\nplt.plot(fpr2, tpr2, linestyle='--',color='orange', label = 'AUC = %0.2f' % roc_auc2)\nplt.plot(p_fpr, p_tpr, linestyle='--', color='blue')\n\nplt.title('ROC curve')\nplt.xlabel('False Positive Rate')\nplt.ylabel('True Positive rate')\nplt.legend(loc='best')\n\nplt.show()",
   "execution_count": 36,
   "outputs": [
    {
     "data": {
      "text/plain": "<Figure size 576x396 with 1 Axes>",
      "image/png": "[encoded data removed]"
     },
     "metadata": {
      "image/png": {
       "width": 497,
       "height": 360
      }
     },
     "output_type": "display_data"
    }
   ]
  },
  {
   "cell_type": "markdown",
   "source": "# K-Nearest Neighbors",
   "metadata": {
    "cell_id": "3c0f0d9dd9bb4f32a751cf59dd25e391",
    "tags": [],
    "is_collapsed": false,
    "deepnote_cell_type": "text-cell-h1"
   }
  },
  {
   "cell_type": "code",
   "metadata": {
    "cell_id": "0341b447f22f416ba36e74793d4c0b09",
    "tags": [],
    "deepnote_to_be_reexecuted": false,
    "source_hash": "efe526a9",
    "execution_start": 1648645259972,
    "execution_millis": 5,
    "deepnote_cell_type": "code",
    "deepnote_cell_height": 136,
    "deepnote_output_heights": [
     21
    ]
   },
   "source": "KNN_model = KNeighborsClassifier(n_neighbors=5, metric='minkowski', p=2)\nKNN_model.fit(X_train, y_train)",
   "execution_count": 37,
   "outputs": [
    {
     "output_type": "execute_result",
     "execution_count": 37,
     "data": {
      "text/plain": "KNeighborsClassifier()"
     },
     "metadata": {}
    }
   ]
  },
  {
   "cell_type": "code",
   "metadata": {
    "cell_id": "1b3b16883fd5428ab74863688dd81aef",
    "tags": [],
    "deepnote_to_be_reexecuted": false,
    "source_hash": "ea461794",
    "execution_start": 1648645259980,
    "execution_millis": 1061,
    "deepnote_cell_type": "code",
    "deepnote_cell_height": 154,
    "deepnote_output_heights": [
     21
    ]
   },
   "source": "y2_actu = KNN_model.predict_proba(X_test)[:,1]\ny_pred = KNN_model.predict(X_test)\nKNN_model.score(X_test, y_pred)",
   "execution_count": 38,
   "outputs": [
    {
     "output_type": "execute_result",
     "execution_count": 38,
     "data": {
      "text/plain": "1.0"
     },
     "metadata": {}
    }
   ]
  },
  {
   "cell_type": "code",
   "metadata": {
    "cell_id": "9fd87d31516c44a9ac05e8d6eb40f11c",
    "tags": [],
    "deepnote_to_be_reexecuted": false,
    "source_hash": "e17a82b5",
    "execution_start": 1648645261036,
    "execution_millis": 6,
    "deepnote_cell_type": "code",
    "deepnote_cell_height": 112
   },
   "source": "print(f'Number of mislabeled points : {(y_test != y_pred).sum()}')",
   "execution_count": 39,
   "outputs": [
    {
     "name": "stdout",
     "text": "Number of mislabeled points : 109\n",
     "output_type": "stream"
    }
   ]
  },
  {
   "cell_type": "code",
   "metadata": {
    "cell_id": "68112fe9c4644b2b94c18134550b7f40",
    "tags": [],
    "deepnote_to_be_reexecuted": false,
    "source_hash": "78ef199a",
    "execution_start": 1648645261039,
    "execution_millis": 2433,
    "deepnote_cell_type": "code",
    "deepnote_cell_height": 154,
    "deepnote_output_heights": [
     21
    ]
   },
   "source": "# Calculating the accuracy score of our KNN model\nKNN_score = cross_val_score(KNN_model, X, y, cv=10, scoring='accuracy')\nKNN_score.mean()",
   "execution_count": 40,
   "outputs": [
    {
     "output_type": "execute_result",
     "execution_count": 40,
     "data": {
      "text/plain": "0.9580437048212846"
     },
     "metadata": {}
    }
   ]
  },
  {
   "cell_type": "code",
   "metadata": {
    "cell_id": "d38392fa5fe543a69ab49abd698ec6e8",
    "tags": [],
    "deepnote_to_be_reexecuted": false,
    "source_hash": "a3962581",
    "execution_start": 1648645263474,
    "execution_millis": 47,
    "deepnote_cell_type": "code",
    "deepnote_cell_height": 347
   },
   "source": "# Creating the confusion matrix\nconfusion_matrix = pd.crosstab(y_test, y_pred, rownames=['Actual'], colnames=['Predicted'], margins=True)\nconfusion_matrix",
   "execution_count": 41,
   "outputs": [
    {
     "output_type": "execute_result",
     "execution_count": 41,
     "data": {
      "application/vnd.deepnote.dataframe.v3+json": {
       "column_count": 3,
       "row_count": 3,
       "columns": [
        {
         "name": 0,
         "dtype": "int64",
         "stats": {
          "unique_count": 3,
          "nan_count": 0,
          "min": "12",
          "max": "440",
          "histogram": [
           {
            "bin_start": 12,
            "bin_end": 54.8,
            "count": 1
           },
           {
            "bin_start": 54.8,
            "bin_end": 97.6,
            "count": 0
           },
           {
            "bin_start": 97.6,
            "bin_end": 140.39999999999998,
            "count": 0
           },
           {
            "bin_start": 140.39999999999998,
            "bin_end": 183.2,
            "count": 0
           },
           {
            "bin_start": 183.2,
            "bin_end": 226,
            "count": 0
           },
           {
            "bin_start": 226,
            "bin_end": 268.79999999999995,
            "count": 0
           },
           {
            "bin_start": 268.79999999999995,
            "bin_end": 311.59999999999997,
            "count": 0
           },
           {
            "bin_start": 311.59999999999997,
            "bin_end": 354.4,
            "count": 0
           },
           {
            "bin_start": 354.4,
            "bin_end": 397.2,
            "count": 0
           },
           {
            "bin_start": 397.2,
            "bin_end": 440,
            "count": 2
           }
          ]
         }
        },
        {
         "name": 1,
         "dtype": "int64",
         "stats": {
          "unique_count": 3,
          "nan_count": 0,
          "min": "97",
          "max": "1591",
          "histogram": [
           {
            "bin_start": 97,
            "bin_end": 246.4,
            "count": 1
           },
           {
            "bin_start": 246.4,
            "bin_end": 395.8,
            "count": 0
           },
           {
            "bin_start": 395.8,
            "bin_end": 545.2,
            "count": 0
           },
           {
            "bin_start": 545.2,
            "bin_end": 694.6,
            "count": 0
           },
           {
            "bin_start": 694.6,
            "bin_end": 844,
            "count": 0
           },
           {
            "bin_start": 844,
            "bin_end": 993.4000000000001,
            "count": 0
           },
           {
            "bin_start": 993.4000000000001,
            "bin_end": 1142.8,
            "count": 0
           },
           {
            "bin_start": 1142.8,
            "bin_end": 1292.2,
            "count": 0
           },
           {
            "bin_start": 1292.2,
            "bin_end": 1441.6000000000001,
            "count": 0
           },
           {
            "bin_start": 1441.6000000000001,
            "bin_end": 1591,
            "count": 2
           }
          ]
         }
        },
        {
         "name": "All",
         "dtype": "int64",
         "stats": {
          "unique_count": 3,
          "nan_count": 0,
          "min": "525",
          "max": "2031",
          "histogram": [
           {
            "bin_start": 525,
            "bin_end": 675.6,
            "count": 1
           },
           {
            "bin_start": 675.6,
            "bin_end": 826.2,
            "count": 0
           },
           {
            "bin_start": 826.2,
            "bin_end": 976.8,
            "count": 0
           },
           {
            "bin_start": 976.8,
            "bin_end": 1127.4,
            "count": 0
           },
           {
            "bin_start": 1127.4,
            "bin_end": 1278,
            "count": 0
           },
           {
            "bin_start": 1278,
            "bin_end": 1428.6,
            "count": 0
           },
           {
            "bin_start": 1428.6,
            "bin_end": 1579.2,
            "count": 1
           },
           {
            "bin_start": 1579.2,
            "bin_end": 1729.8,
            "count": 0
           },
           {
            "bin_start": 1729.8,
            "bin_end": 1880.3999999999999,
            "count": 0
           },
           {
            "bin_start": 1880.3999999999999,
            "bin_end": 2031,
            "count": 1
           }
          ]
         }
        },
        {
         "name": "_deepnote_index_column",
         "dtype": "object"
        }
       ],
       "rows": [
        {
         "0": 428,
         "1": 97,
         "All": 525,
         "_deepnote_index_column": "0"
        },
        {
         "0": 12,
         "1": 1494,
         "All": 1506,
         "_deepnote_index_column": "1"
        },
        {
         "0": 440,
         "1": 1591,
         "All": 2031,
         "_deepnote_index_column": "All"
        }
       ]
      },
      "text/plain": "Predicted    0     1   All\nActual                    \n0          428    97   525\n1           12  1494  1506\nAll        440  1591  2031",
      "text/html": "<div>\n<style scoped>\n    .dataframe tbody tr th:only-of-type {\n        vertical-align: middle;\n    }\n\n    .dataframe tbody tr th {\n        vertical-align: top;\n    }\n\n    .dataframe thead th {\n        text-align: right;\n    }\n</style>\n<table border=\"1\" class=\"dataframe\">\n  <thead>\n    <tr style=\"text-align: right;\">\n      <th>Predicted</th>\n      <th>0</th>\n      <th>1</th>\n      <th>All</th>\n    </tr>\n    <tr>\n      <th>Actual</th>\n      <th></th>\n      <th></th>\n      <th></th>\n    </tr>\n  </thead>\n  <tbody>\n    <tr>\n      <th>0</th>\n      <td>428</td>\n      <td>97</td>\n      <td>525</td>\n    </tr>\n    <tr>\n      <th>1</th>\n      <td>12</td>\n      <td>1494</td>\n      <td>1506</td>\n    </tr>\n    <tr>\n      <th>All</th>\n      <td>440</td>\n      <td>1591</td>\n      <td>2031</td>\n    </tr>\n  </tbody>\n</table>\n</div>"
     },
     "metadata": {}
    }
   ]
  },
  {
   "cell_type": "code",
   "metadata": {
    "cell_id": "fa06463a866b450389e15e3f452db0c4",
    "tags": [],
    "deepnote_to_be_reexecuted": false,
    "source_hash": "a2326ce8",
    "execution_start": 1648645263520,
    "execution_millis": 8,
    "deepnote_cell_type": "code",
    "deepnote_cell_height": 380
   },
   "source": "# Some metrics on our classified datas\n# Precision is the ratio of the correctly positive labeled to all positive labeled :  TP/(TP+FP)\n# Recall (or Sensitivity) is the ratio of the correctly positive labeled to all who are positive in reality : TP/(TP+FN)\n# F1-score is the harmonic mean (average) of precision and recall : 2*(Recall * Precision) / (Recall + Precision)\ntarget_names = ['class 0', 'class 1']\nauc_roc = metrics.classification_report(y_test, y_pred, target_names=target_names)\nprint(auc_roc)",
   "execution_count": 42,
   "outputs": [
    {
     "name": "stdout",
     "text": "              precision    recall  f1-score   support\n\n     class 0       0.97      0.82      0.89       525\n     class 1       0.94      0.99      0.96      1506\n\n    accuracy                           0.95      2031\n   macro avg       0.96      0.90      0.93      2031\nweighted avg       0.95      0.95      0.94      2031\n\n",
     "output_type": "stream"
    }
   ]
  },
  {
   "cell_type": "code",
   "metadata": {
    "cell_id": "acef5b6b7bbb454e97e94b347b77e4f2",
    "tags": [],
    "deepnote_to_be_reexecuted": false,
    "source_hash": "6f28918a",
    "execution_start": 1648645263531,
    "execution_millis": 42,
    "deepnote_cell_type": "code",
    "deepnote_cell_height": 172,
    "deepnote_output_heights": [
     21
    ]
   },
   "source": "# ROC curve for models\nfpr3, tpr3, thresh3 = roc_curve(y_test, y2_actu, pos_label=1)\nroc_auc3 = auc(fpr3, tpr3)\nroc_auc3",
   "execution_count": 43,
   "outputs": [
    {
     "output_type": "execute_result",
     "execution_count": 43,
     "data": {
      "text/plain": "0.9830266236640738"
     },
     "metadata": {}
    }
   ]
  },
  {
   "cell_type": "code",
   "metadata": {
    "cell_id": "c935dd39a32c4b62983a814d00fbe18e",
    "tags": [],
    "deepnote_to_be_reexecuted": false,
    "source_hash": "4b5e2778",
    "execution_start": 1648645263572,
    "execution_millis": 225,
    "deepnote_cell_type": "code",
    "deepnote_cell_height": 639,
    "deepnote_output_heights": [
     362
    ]
   },
   "source": "# Plot ROC curves\nplt.style.use('seaborn')\nplt.plot(fpr3, tpr3, linestyle='--',color='orange', label = 'AUC = %0.2f' % roc_auc3)\nplt.plot(p_fpr, p_tpr, linestyle='--', color='blue')\n\nplt.title('ROC curve')\nplt.xlabel('False Positive Rate')\nplt.ylabel('True Positive rate')\nplt.legend(loc='best')\n\nplt.show()",
   "execution_count": 44,
   "outputs": [
    {
     "data": {
      "text/plain": "<Figure size 576x396 with 1 Axes>",
      "image/png": "[encoded data removed]"
     },
     "metadata": {
      "image/png": {
       "width": 497,
       "height": 360
      }
     },
     "output_type": "display_data"
    }
   ]
  },
  {
   "cell_type": "markdown",
   "source": "# Support Vector Machine",
   "metadata": {
    "cell_id": "3f7088a408ac480abbbd38683d870b02",
    "tags": [],
    "is_collapsed": false,
    "deepnote_cell_type": "text-cell-h1"
   }
  },
  {
   "cell_type": "code",
   "metadata": {
    "cell_id": "93af168c2e8a418f88900a5c5984287e",
    "tags": [],
    "deepnote_to_be_reexecuted": false,
    "source_hash": "b9b1be41",
    "execution_start": 1648645263801,
    "execution_millis": 7108,
    "deepnote_cell_type": "code",
    "deepnote_cell_height": 136,
    "deepnote_output_heights": [
     21
    ]
   },
   "source": "SVM_model = SVC(kernel = 'rbf', random_state = 0, probability=True)\nSVM_model.fit(X_train, y_train)",
   "execution_count": 45,
   "outputs": [
    {
     "output_type": "execute_result",
     "execution_count": 45,
     "data": {
      "text/plain": "SVC(probability=True, random_state=0)"
     },
     "metadata": {}
    }
   ]
  },
  {
   "cell_type": "code",
   "metadata": {
    "cell_id": "f6ae872a2c5a4d0d9290a27b45518124",
    "tags": [],
    "deepnote_to_be_reexecuted": false,
    "source_hash": "3845a783",
    "execution_start": 1648645270911,
    "execution_millis": 1332,
    "deepnote_cell_type": "code",
    "deepnote_cell_height": 154,
    "deepnote_output_heights": [
     21
    ]
   },
   "source": "y3_actu = SVM_model.predict_proba(X_test)[:,1]\ny_pred = SVM_model.predict(X_test)\nSVM_model.score(X_test, y_pred)",
   "execution_count": 46,
   "outputs": [
    {
     "output_type": "execute_result",
     "execution_count": 46,
     "data": {
      "text/plain": "1.0"
     },
     "metadata": {}
    }
   ]
  },
  {
   "cell_type": "code",
   "metadata": {
    "cell_id": "8244032de6d64245ac6d1ebfb53dbb78",
    "tags": [],
    "deepnote_to_be_reexecuted": false,
    "source_hash": "e17a82b5",
    "execution_start": 1648645272246,
    "execution_millis": 2,
    "deepnote_cell_type": "code",
    "deepnote_cell_height": 112
   },
   "source": "print(f'Number of mislabeled points : {(y_test != y_pred).sum()}')",
   "execution_count": 47,
   "outputs": [
    {
     "name": "stdout",
     "text": "Number of mislabeled points : 42\n",
     "output_type": "stream"
    }
   ]
  },
  {
   "cell_type": "code",
   "metadata": {
    "cell_id": "897b4b1c8c69433dabbdb87652f3a6aa",
    "tags": [],
    "deepnote_to_be_reexecuted": false,
    "source_hash": "334252d0",
    "execution_start": 1648645272253,
    "execution_millis": 49124,
    "deepnote_cell_type": "code",
    "deepnote_cell_height": 154,
    "deepnote_output_heights": [
     21
    ]
   },
   "source": "# Calculating the accuracy score of our SVM model\nSVM_score = cross_val_score(SVM_model, X, y, cv=10, scoring='accuracy')\nSVM_score.mean()",
   "execution_count": 48,
   "outputs": [
    {
     "output_type": "execute_result",
     "execution_count": 48,
     "data": {
      "text/plain": "0.9584131629493635"
     },
     "metadata": {}
    }
   ]
  },
  {
   "cell_type": "code",
   "metadata": {
    "cell_id": "dd71edb5444e4e3ba6a31f81c9f68a49",
    "tags": [],
    "deepnote_to_be_reexecuted": false,
    "source_hash": "a3962581",
    "execution_start": 1648645321377,
    "execution_millis": 9,
    "deepnote_cell_type": "code",
    "deepnote_cell_height": 347
   },
   "source": "# Creating the confusion matrix\nconfusion_matrix = pd.crosstab(y_test, y_pred, rownames=['Actual'], colnames=['Predicted'], margins=True)\nconfusion_matrix",
   "execution_count": 49,
   "outputs": [
    {
     "output_type": "execute_result",
     "execution_count": 49,
     "data": {
      "application/vnd.deepnote.dataframe.v3+json": {
       "column_count": 3,
       "row_count": 3,
       "columns": [
        {
         "name": 0,
         "dtype": "int64",
         "stats": {
          "unique_count": 3,
          "nan_count": 0,
          "min": "39",
          "max": "561",
          "histogram": [
           {
            "bin_start": 39,
            "bin_end": 91.2,
            "count": 1
           },
           {
            "bin_start": 91.2,
            "bin_end": 143.4,
            "count": 0
           },
           {
            "bin_start": 143.4,
            "bin_end": 195.60000000000002,
            "count": 0
           },
           {
            "bin_start": 195.60000000000002,
            "bin_end": 247.8,
            "count": 0
           },
           {
            "bin_start": 247.8,
            "bin_end": 300,
            "count": 0
           },
           {
            "bin_start": 300,
            "bin_end": 352.20000000000005,
            "count": 0
           },
           {
            "bin_start": 352.20000000000005,
            "bin_end": 404.40000000000003,
            "count": 0
           },
           {
            "bin_start": 404.40000000000003,
            "bin_end": 456.6,
            "count": 0
           },
           {
            "bin_start": 456.6,
            "bin_end": 508.8,
            "count": 0
           },
           {
            "bin_start": 508.8,
            "bin_end": 561,
            "count": 2
           }
          ]
         }
        },
        {
         "name": 1,
         "dtype": "int64",
         "stats": {
          "unique_count": 3,
          "nan_count": 0,
          "min": "3",
          "max": "1470",
          "histogram": [
           {
            "bin_start": 3,
            "bin_end": 149.7,
            "count": 1
           },
           {
            "bin_start": 149.7,
            "bin_end": 296.4,
            "count": 0
           },
           {
            "bin_start": 296.4,
            "bin_end": 443.09999999999997,
            "count": 0
           },
           {
            "bin_start": 443.09999999999997,
            "bin_end": 589.8,
            "count": 0
           },
           {
            "bin_start": 589.8,
            "bin_end": 736.5,
            "count": 0
           },
           {
            "bin_start": 736.5,
            "bin_end": 883.1999999999999,
            "count": 0
           },
           {
            "bin_start": 883.1999999999999,
            "bin_end": 1029.8999999999999,
            "count": 0
           },
           {
            "bin_start": 1029.8999999999999,
            "bin_end": 1176.6,
            "count": 0
           },
           {
            "bin_start": 1176.6,
            "bin_end": 1323.3,
            "count": 0
           },
           {
            "bin_start": 1323.3,
            "bin_end": 1470,
            "count": 2
           }
          ]
         }
        },
        {
         "name": "All",
         "dtype": "int64",
         "stats": {
          "unique_count": 3,
          "nan_count": 0,
          "min": "525",
          "max": "2031",
          "histogram": [
           {
            "bin_start": 525,
            "bin_end": 675.6,
            "count": 1
           },
           {
            "bin_start": 675.6,
            "bin_end": 826.2,
            "count": 0
           },
           {
            "bin_start": 826.2,
            "bin_end": 976.8,
            "count": 0
           },
           {
            "bin_start": 976.8,
            "bin_end": 1127.4,
            "count": 0
           },
           {
            "bin_start": 1127.4,
            "bin_end": 1278,
            "count": 0
           },
           {
            "bin_start": 1278,
            "bin_end": 1428.6,
            "count": 0
           },
           {
            "bin_start": 1428.6,
            "bin_end": 1579.2,
            "count": 1
           },
           {
            "bin_start": 1579.2,
            "bin_end": 1729.8,
            "count": 0
           },
           {
            "bin_start": 1729.8,
            "bin_end": 1880.3999999999999,
            "count": 0
           },
           {
            "bin_start": 1880.3999999999999,
            "bin_end": 2031,
            "count": 1
           }
          ]
         }
        },
        {
         "name": "_deepnote_index_column",
         "dtype": "object"
        }
       ],
       "rows": [
        {
         "0": 522,
         "1": 3,
         "All": 525,
         "_deepnote_index_column": "0"
        },
        {
         "0": 39,
         "1": 1467,
         "All": 1506,
         "_deepnote_index_column": "1"
        },
        {
         "0": 561,
         "1": 1470,
         "All": 2031,
         "_deepnote_index_column": "All"
        }
       ]
      },
      "text/plain": "Predicted    0     1   All\nActual                    \n0          522     3   525\n1           39  1467  1506\nAll        561  1470  2031",
      "text/html": "<div>\n<style scoped>\n    .dataframe tbody tr th:only-of-type {\n        vertical-align: middle;\n    }\n\n    .dataframe tbody tr th {\n        vertical-align: top;\n    }\n\n    .dataframe thead th {\n        text-align: right;\n    }\n</style>\n<table border=\"1\" class=\"dataframe\">\n  <thead>\n    <tr style=\"text-align: right;\">\n      <th>Predicted</th>\n      <th>0</th>\n      <th>1</th>\n      <th>All</th>\n    </tr>\n    <tr>\n      <th>Actual</th>\n      <th></th>\n      <th></th>\n      <th></th>\n    </tr>\n  </thead>\n  <tbody>\n    <tr>\n      <th>0</th>\n      <td>522</td>\n      <td>3</td>\n      <td>525</td>\n    </tr>\n    <tr>\n      <th>1</th>\n      <td>39</td>\n      <td>1467</td>\n      <td>1506</td>\n    </tr>\n    <tr>\n      <th>All</th>\n      <td>561</td>\n      <td>1470</td>\n      <td>2031</td>\n    </tr>\n  </tbody>\n</table>\n</div>"
     },
     "metadata": {}
    }
   ]
  },
  {
   "cell_type": "code",
   "metadata": {
    "cell_id": "29671f0a1d414837b207176ad35c520f",
    "tags": [],
    "deepnote_to_be_reexecuted": false,
    "source_hash": "a2326ce8",
    "execution_start": 1648645321390,
    "execution_millis": 12,
    "deepnote_cell_type": "code",
    "deepnote_cell_height": 380
   },
   "source": "# Some metrics on our classified datas\n# Precision is the ratio of the correctly positive labeled to all positive labeled :  TP/(TP+FP)\n# Recall (or Sensitivity) is the ratio of the correctly positive labeled to all who are positive in reality : TP/(TP+FN)\n# F1-score is the harmonic mean (average) of precision and recall : 2*(Recall * Precision) / (Recall + Precision)\ntarget_names = ['class 0', 'class 1']\nauc_roc = metrics.classification_report(y_test, y_pred, target_names=target_names)\nprint(auc_roc)",
   "execution_count": 50,
   "outputs": [
    {
     "name": "stdout",
     "text": "              precision    recall  f1-score   support\n\n     class 0       0.93      0.99      0.96       525\n     class 1       1.00      0.97      0.99      1506\n\n    accuracy                           0.98      2031\n   macro avg       0.96      0.98      0.97      2031\nweighted avg       0.98      0.98      0.98      2031\n\n",
     "output_type": "stream"
    }
   ]
  },
  {
   "cell_type": "code",
   "metadata": {
    "cell_id": "cd892a84b4a24944904101bd3cf15da0",
    "tags": [],
    "deepnote_to_be_reexecuted": false,
    "source_hash": "b689181",
    "execution_start": 1648645321407,
    "execution_millis": 4,
    "deepnote_cell_type": "code",
    "deepnote_cell_height": 172,
    "deepnote_output_heights": [
     21
    ]
   },
   "source": "# ROC curve for models\nfpr4, tpr4, thresh4 = roc_curve(y_test, y3_actu, pos_label=1)\nroc_auc4 = auc(fpr4, tpr4)\nroc_auc4",
   "execution_count": 51,
   "outputs": [
    {
     "output_type": "execute_result",
     "execution_count": 51,
     "data": {
      "text/plain": "0.9976487699993676"
     },
     "metadata": {}
    }
   ]
  },
  {
   "cell_type": "code",
   "metadata": {
    "cell_id": "c42a89adda114baba78eeba856bb4af1",
    "tags": [],
    "deepnote_to_be_reexecuted": false,
    "source_hash": "7c7dd12b",
    "execution_start": 1648645321419,
    "execution_millis": 256,
    "deepnote_cell_type": "code",
    "deepnote_cell_height": 639,
    "deepnote_output_heights": [
     362
    ]
   },
   "source": "# Plot ROC curves\nplt.style.use('seaborn')\nplt.plot(fpr4, tpr4, linestyle='--',color='orange', label = 'AUC = %0.2f' % roc_auc4)\nplt.plot(p_fpr, p_tpr, linestyle='--', color='blue')\n\nplt.title('ROC curve')\nplt.xlabel('False Positive Rate')\nplt.ylabel('True Positive rate')\nplt.legend(loc='best')\n\nplt.show()",
   "execution_count": 52,
   "outputs": [
    {
     "data": {
      "text/plain": "<Figure size 576x396 with 1 Axes>",
      "image/png": "[encoded data removed]"
     },
     "metadata": {
      "image/png": {
       "width": 497,
       "height": 360
      }
     },
     "output_type": "display_data"
    }
   ]
  },
  {
   "cell_type": "markdown",
   "source": "# Random Forest",
   "metadata": {
    "cell_id": "1bf0d0ae05364036879d5107fb942840",
    "tags": [],
    "is_collapsed": false,
    "deepnote_cell_type": "text-cell-h1"
   }
  },
  {
   "cell_type": "code",
   "metadata": {
    "cell_id": "87cdca043fa34afbaca1d54cad2cd460",
    "tags": [],
    "deepnote_to_be_reexecuted": false,
    "source_hash": "6fa9f71",
    "execution_start": 1648645321675,
    "execution_millis": 588,
    "deepnote_cell_type": "code",
    "deepnote_cell_height": 136,
    "deepnote_output_heights": [
     21
    ]
   },
   "source": "RF_model = RandomForestClassifier(n_estimators=100, max_depth=10, random_state=1)\nRF_model.fit(X_train, y_train)",
   "execution_count": 53,
   "outputs": [
    {
     "output_type": "execute_result",
     "execution_count": 53,
     "data": {
      "text/plain": "RandomForestClassifier(max_depth=10, random_state=1)"
     },
     "metadata": {}
    }
   ]
  },
  {
   "cell_type": "code",
   "metadata": {
    "cell_id": "5ba434b4070b4b61850ba12dca433469",
    "tags": [],
    "deepnote_to_be_reexecuted": false,
    "source_hash": "42fe0175",
    "execution_start": 1648645321954,
    "execution_millis": 330,
    "deepnote_cell_type": "code",
    "deepnote_cell_height": 154,
    "deepnote_output_heights": [
     21
    ]
   },
   "source": "y5_actu = RF_model.predict_proba(X_test)[:,1]\ny_pred = RF_model.predict(X_test)\nRF_model.score(X_test, y_pred)",
   "execution_count": 54,
   "outputs": [
    {
     "output_type": "execute_result",
     "execution_count": 54,
     "data": {
      "text/plain": "1.0"
     },
     "metadata": {}
    }
   ]
  },
  {
   "cell_type": "code",
   "metadata": {
    "cell_id": "9e1dd82ca5c64787b882dacd43e387b4",
    "tags": [],
    "deepnote_to_be_reexecuted": false,
    "source_hash": "e17a82b5",
    "execution_start": 1648645322053,
    "execution_millis": 232,
    "deepnote_cell_type": "code",
    "deepnote_cell_height": 112
   },
   "source": "print(f'Number of mislabeled points : {(y_test != y_pred).sum()}')",
   "execution_count": 55,
   "outputs": [
    {
     "name": "stdout",
     "text": "Number of mislabeled points : 28\n",
     "output_type": "stream"
    }
   ]
  },
  {
   "cell_type": "code",
   "metadata": {
    "cell_id": "f6a4445488c741b9b8be0c2013f1ceff",
    "tags": [],
    "deepnote_to_be_reexecuted": false,
    "source_hash": "9b0a8cd",
    "execution_start": 1648645322059,
    "execution_millis": 3401,
    "deepnote_cell_type": "code",
    "deepnote_cell_height": 154,
    "deepnote_output_heights": [
     21
    ]
   },
   "source": "# Calculating the accuracy score of our RF model\nRF_score = cross_val_score(RF_model, X, y, cv=10, scoring='accuracy')\nRF_score.mean()",
   "execution_count": 56,
   "outputs": [
    {
     "output_type": "execute_result",
     "execution_count": 56,
     "data": {
      "text/plain": "0.9650634092547822"
     },
     "metadata": {}
    }
   ]
  },
  {
   "cell_type": "code",
   "metadata": {
    "cell_id": "a02618018fbd443bb45b49c84f24d742",
    "tags": [],
    "deepnote_to_be_reexecuted": false,
    "source_hash": "a3962581",
    "execution_start": 1648645325469,
    "execution_millis": 35,
    "deepnote_cell_type": "code",
    "deepnote_cell_height": 347
   },
   "source": "# Creating the confusion matrix\nconfusion_matrix = pd.crosstab(y_test, y_pred, rownames=['Actual'], colnames=['Predicted'], margins=True)\nconfusion_matrix",
   "execution_count": 57,
   "outputs": [
    {
     "output_type": "execute_result",
     "execution_count": 57,
     "data": {
      "application/vnd.deepnote.dataframe.v3+json": {
       "column_count": 3,
       "row_count": 3,
       "columns": [
        {
         "name": 0,
         "dtype": "int64",
         "stats": {
          "unique_count": 3,
          "nan_count": 0,
          "min": "8",
          "max": "513",
          "histogram": [
           {
            "bin_start": 8,
            "bin_end": 58.5,
            "count": 1
           },
           {
            "bin_start": 58.5,
            "bin_end": 109,
            "count": 0
           },
           {
            "bin_start": 109,
            "bin_end": 159.5,
            "count": 0
           },
           {
            "bin_start": 159.5,
            "bin_end": 210,
            "count": 0
           },
           {
            "bin_start": 210,
            "bin_end": 260.5,
            "count": 0
           },
           {
            "bin_start": 260.5,
            "bin_end": 311,
            "count": 0
           },
           {
            "bin_start": 311,
            "bin_end": 361.5,
            "count": 0
           },
           {
            "bin_start": 361.5,
            "bin_end": 412,
            "count": 0
           },
           {
            "bin_start": 412,
            "bin_end": 462.5,
            "count": 0
           },
           {
            "bin_start": 462.5,
            "bin_end": 513,
            "count": 2
           }
          ]
         }
        },
        {
         "name": 1,
         "dtype": "int64",
         "stats": {
          "unique_count": 3,
          "nan_count": 0,
          "min": "20",
          "max": "1518",
          "histogram": [
           {
            "bin_start": 20,
            "bin_end": 169.8,
            "count": 1
           },
           {
            "bin_start": 169.8,
            "bin_end": 319.6,
            "count": 0
           },
           {
            "bin_start": 319.6,
            "bin_end": 469.40000000000003,
            "count": 0
           },
           {
            "bin_start": 469.40000000000003,
            "bin_end": 619.2,
            "count": 0
           },
           {
            "bin_start": 619.2,
            "bin_end": 769,
            "count": 0
           },
           {
            "bin_start": 769,
            "bin_end": 918.8000000000001,
            "count": 0
           },
           {
            "bin_start": 918.8000000000001,
            "bin_end": 1068.6000000000001,
            "count": 0
           },
           {
            "bin_start": 1068.6000000000001,
            "bin_end": 1218.4,
            "count": 0
           },
           {
            "bin_start": 1218.4,
            "bin_end": 1368.2,
            "count": 0
           },
           {
            "bin_start": 1368.2,
            "bin_end": 1518,
            "count": 2
           }
          ]
         }
        },
        {
         "name": "All",
         "dtype": "int64",
         "stats": {
          "unique_count": 3,
          "nan_count": 0,
          "min": "525",
          "max": "2031",
          "histogram": [
           {
            "bin_start": 525,
            "bin_end": 675.6,
            "count": 1
           },
           {
            "bin_start": 675.6,
            "bin_end": 826.2,
            "count": 0
           },
           {
            "bin_start": 826.2,
            "bin_end": 976.8,
            "count": 0
           },
           {
            "bin_start": 976.8,
            "bin_end": 1127.4,
            "count": 0
           },
           {
            "bin_start": 1127.4,
            "bin_end": 1278,
            "count": 0
           },
           {
            "bin_start": 1278,
            "bin_end": 1428.6,
            "count": 0
           },
           {
            "bin_start": 1428.6,
            "bin_end": 1579.2,
            "count": 1
           },
           {
            "bin_start": 1579.2,
            "bin_end": 1729.8,
            "count": 0
           },
           {
            "bin_start": 1729.8,
            "bin_end": 1880.3999999999999,
            "count": 0
           },
           {
            "bin_start": 1880.3999999999999,
            "bin_end": 2031,
            "count": 1
           }
          ]
         }
        },
        {
         "name": "_deepnote_index_column",
         "dtype": "object"
        }
       ],
       "rows": [
        {
         "0": 505,
         "1": 20,
         "All": 525,
         "_deepnote_index_column": "0"
        },
        {
         "0": 8,
         "1": 1498,
         "All": 1506,
         "_deepnote_index_column": "1"
        },
        {
         "0": 513,
         "1": 1518,
         "All": 2031,
         "_deepnote_index_column": "All"
        }
       ]
      },
      "text/plain": "Predicted    0     1   All\nActual                    \n0          505    20   525\n1            8  1498  1506\nAll        513  1518  2031",
      "text/html": "<div>\n<style scoped>\n    .dataframe tbody tr th:only-of-type {\n        vertical-align: middle;\n    }\n\n    .dataframe tbody tr th {\n        vertical-align: top;\n    }\n\n    .dataframe thead th {\n        text-align: right;\n    }\n</style>\n<table border=\"1\" class=\"dataframe\">\n  <thead>\n    <tr style=\"text-align: right;\">\n      <th>Predicted</th>\n      <th>0</th>\n      <th>1</th>\n      <th>All</th>\n    </tr>\n    <tr>\n      <th>Actual</th>\n      <th></th>\n      <th></th>\n      <th></th>\n    </tr>\n  </thead>\n  <tbody>\n    <tr>\n      <th>0</th>\n      <td>505</td>\n      <td>20</td>\n      <td>525</td>\n    </tr>\n    <tr>\n      <th>1</th>\n      <td>8</td>\n      <td>1498</td>\n      <td>1506</td>\n    </tr>\n    <tr>\n      <th>All</th>\n      <td>513</td>\n      <td>1518</td>\n      <td>2031</td>\n    </tr>\n  </tbody>\n</table>\n</div>"
     },
     "metadata": {}
    }
   ]
  },
  {
   "cell_type": "code",
   "metadata": {
    "cell_id": "a5ee5960349349e287d7bfb4c639a97c",
    "tags": [],
    "deepnote_to_be_reexecuted": false,
    "source_hash": "3f5fbc30",
    "execution_start": 1648645325507,
    "execution_millis": 9,
    "deepnote_cell_type": "code",
    "deepnote_cell_height": 380
   },
   "source": "# Some metrics on our classified datas\n# Precision is the ratio of the correctly positive labeled to all positive labeled :  TP/(TP+FP)\n# Recall (or Sensitivity) is the ratio of the correctly positive labeled to all who are positive in reality : TP/(TP+FN)\n# F1-score is the harmonic mean (average) of precision and recall : 2*(Recall*Precision)/(Recall+Precision)\ntarget_names = ['class 0', 'class 1']\nauc_roc = metrics.classification_report(y_test, y_pred, target_names=target_names)\nprint(auc_roc)",
   "execution_count": 58,
   "outputs": [
    {
     "name": "stdout",
     "text": "              precision    recall  f1-score   support\n\n     class 0       0.98      0.96      0.97       525\n     class 1       0.99      0.99      0.99      1506\n\n    accuracy                           0.99      2031\n   macro avg       0.99      0.98      0.98      2031\nweighted avg       0.99      0.99      0.99      2031\n\n",
     "output_type": "stream"
    }
   ]
  },
  {
   "cell_type": "code",
   "metadata": {
    "cell_id": "9848de839bbb4d44b2938d906305d17f",
    "tags": [],
    "deepnote_to_be_reexecuted": false,
    "source_hash": "44b38ae3",
    "execution_start": 1648645325522,
    "execution_millis": 8,
    "deepnote_cell_type": "code",
    "deepnote_cell_height": 172,
    "deepnote_output_heights": [
     21
    ]
   },
   "source": "# ROC curve for models\nfpr5, tpr5, thresh5 = roc_curve(y_test, y5_actu, pos_label=1)\nroc_auc5 = auc(fpr5, tpr5)\nroc_auc5",
   "execution_count": 59,
   "outputs": [
    {
     "output_type": "execute_result",
     "execution_count": 59,
     "data": {
      "text/plain": "0.9989363182191868"
     },
     "metadata": {}
    }
   ]
  },
  {
   "cell_type": "code",
   "metadata": {
    "cell_id": "3508ed479c244bf5910cad8dd7967668",
    "tags": [],
    "deepnote_to_be_reexecuted": false,
    "source_hash": "d052bfbb",
    "execution_start": 1648645325572,
    "execution_millis": 214,
    "deepnote_cell_type": "code",
    "deepnote_cell_height": 639,
    "deepnote_output_heights": [
     362
    ]
   },
   "source": "# Plot ROC curves\nplt.style.use('seaborn')\nplt.plot(fpr5, tpr5, linestyle='--',color='orange', label = 'AUC = %0.2f' % roc_auc5)\nplt.plot(p_fpr, p_tpr, linestyle='--', color='blue')\n\nplt.title('ROC curve')\nplt.xlabel('False Positive Rate')\nplt.ylabel('True Positive rate')\nplt.legend(loc='best')\n\nplt.show()",
   "execution_count": 60,
   "outputs": [
    {
     "data": {
      "text/plain": "<Figure size 576x396 with 1 Axes>",
      "image/png": "[encoded data removed]"
     },
     "metadata": {
      "image/png": {
       "width": 497,
       "height": 360
      }
     },
     "output_type": "display_data"
    }
   ]
  },
  {
   "cell_type": "code",
   "metadata": {
    "cell_id": "0c0ed08118e042588ece00161b737d74",
    "tags": [],
    "deepnote_to_be_reexecuted": false,
    "source_hash": "6424e295",
    "execution_start": 1648645325816,
    "execution_millis": 272,
    "deepnote_cell_type": "code",
    "deepnote_cell_height": 747,
    "deepnote_output_heights": [
     362
    ]
   },
   "source": "# Lets print all ROC curves on one plot\nplt.style.use('seaborn')\n\n# Plot ROC curves\nplt.plot(fpr1, tpr1, linestyle='--', color='orange', label='NB')\nplt.plot(fpr2, tpr2, linestyle='--', color='green', label='LR')\nplt.plot(fpr3, tpr3, linestyle='--', color='purple', label='KNN')\nplt.plot(fpr4, tpr4, linestyle='--', color='red', label='SVM')\nplt.plot(fpr5, tpr5, linestyle='--', color='cyan', label='RF')\nplt.plot(p_fpr, p_tpr, linestyle='--', color='blue')\n\nplt.title('ROC curve')\nplt.xlabel('False Positive Rate')\nplt.ylabel('True Positive rate')\nplt.legend(loc='best')\n\nplt.show()",
   "execution_count": 61,
   "outputs": [
    {
     "data": {
      "text/plain": "<Figure size 576x396 with 1 Axes>",
      "image/png": "[encoded data removed]"
     },
     "metadata": {
      "image/png": {
       "width": 497,
       "height": 360
      }
     },
     "output_type": "display_data"
    }
   ]
  },
  {
   "cell_type": "markdown",
   "source": "# Best performing algorithm",
   "metadata": {
    "cell_id": "ff70ca000a9f4b548eaf8c0568b6670f",
    "tags": [],
    "is_collapsed": false,
    "deepnote_cell_type": "text-cell-h1"
   }
  },
  {
   "cell_type": "code",
   "metadata": {
    "cell_id": "d66949c73c344d6a952fca48e31c7a27",
    "tags": [],
    "deepnote_to_be_reexecuted": false,
    "source_hash": "363c418b",
    "execution_start": 1648645326088,
    "execution_millis": 9,
    "deepnote_cell_type": "code",
    "deepnote_cell_height": 372
   },
   "source": "# Accuracy vs AUC\n# To determine which algorithm is the best, we need to choose a metric to compare them to\n# Accuracy shows the percentage of the correct classifications with respect to all the samples\n# But it does not say anything about the performances for negative and positive classes\n# This is why AUC is a better metric to compare our models\n\nprint(f'NB AUC : {roc_auc}')\nprint(f'LR AUC : {roc_auc2}')\nprint(f'KNN AUC : {roc_auc3}')\nprint(f'SVM AUC : {roc_auc4}')\nprint(f'RF AUC : {roc_auc5}')",
   "execution_count": 62,
   "outputs": [
    {
     "name": "stdout",
     "text": "NB AUC : 0.8215879339783723\nLR AUC : 0.9995383545184342\nKNN AUC : 0.9830266236640738\nSVM AUC : 0.9976487699993676\nRF AUC : 0.9989363182191868\n",
     "output_type": "stream"
    }
   ]
  },
  {
   "cell_type": "markdown",
   "source": "# Feature selection",
   "metadata": {
    "cell_id": "2005d0ad10e2448484f34aec933b056f",
    "tags": [],
    "is_collapsed": false,
    "deepnote_cell_type": "text-cell-h1"
   }
  },
  {
   "cell_type": "code",
   "source": "# We use the embedded method with a Lasso regularization to determine which features are relevant or not\n\nreg = LassoCV()\nreg.fit(X, y)\nprint(\"Best alpha using built-in LassoCV: %f\" % reg.alpha_)\nprint(\"Best score using built-in LassoCV: %f\" %reg.score(X,y))\ncoef = pd.Series(reg.coef_, index = X.columns)",
   "metadata": {
    "cell_id": "3a89d95b80fe4437b8db599e684993e9",
    "tags": [],
    "deepnote_to_be_reexecuted": false,
    "source_hash": "99b69666",
    "execution_start": 1648645326233,
    "execution_millis": 2664,
    "deepnote_cell_type": "code",
    "deepnote_cell_height": 252
   },
   "outputs": [
    {
     "name": "stdout",
     "text": "Best alpha using built-in LassoCV: 0.000195\nBest score using built-in LassoCV: 0.997096\n",
     "output_type": "stream"
    }
   ],
   "execution_count": 66
  },
  {
   "cell_type": "code",
   "source": "print(\"Lasso picked \" + str(sum(coef != 0)) + \" variables and eliminated the other \" +  str(sum(coef == 0)) + \" variables\")",
   "metadata": {
    "cell_id": "a62bbf5e05b84060be7d8fa4512acec6",
    "tags": [],
    "deepnote_to_be_reexecuted": false,
    "source_hash": "b29a4609",
    "execution_start": 1648645328897,
    "execution_millis": 13,
    "deepnote_cell_type": "code",
    "deepnote_cell_height": 112
   },
   "outputs": [
    {
     "name": "stdout",
     "text": "Lasso picked 50 variables and eliminated the other 67 variables\n",
     "output_type": "stream"
    }
   ],
   "execution_count": 67
  },
  {
   "cell_type": "code",
   "source": "# Features with positive coefficient are relevant and those with negative coefficient are not\nimp_coef = coef.sort_values()\nplt.rcParams['figure.figsize'] = (15, 15)\nimp_coef.plot(kind = \"barh\")\nplt.title(\"Feature importance using Lasso Model\")",
   "metadata": {
    "cell_id": "ce5bcd376b764c3680b93813a3f44fcf",
    "tags": [],
    "deepnote_to_be_reexecuted": false,
    "source_hash": "6f1e7bad",
    "execution_start": 1648645488962,
    "execution_millis": 2875,
    "deepnote_cell_type": "code",
    "deepnote_cell_height": 832,
    "deepnote_output_heights": [
     21,
     611
    ]
   },
   "outputs": [
    {
     "output_type": "execute_result",
     "execution_count": 75,
     "data": {
      "text/plain": "Text(0.5, 1.0, 'Feature importance using Lasso Model')"
     },
     "metadata": {}
    },
    {
     "data": {
      "text/plain": "<Figure size 1080x1080 with 1 Axes>",
      "image/png": "[encoded data removed]"
     },
     "metadata": {
      "image/png": {
       "width": 991,
       "height": 862
      }
     },
     "output_type": "display_data"
    }
   ],
   "execution_count": 75
  },
  {
   "cell_type": "markdown",
   "source": "<a style='text-decoration:none;line-height:16px;display:flex;color:#5B5B62;padding:10px;justify-content:end;' href='https://deepnote.com?utm_source=created-in-deepnote-cell&projectId=4ec1ac06-5e67-4a2a-9a45-1852c75c2431' target=\"_blank\">\n<img alt='Created in deepnote.com' style='display:inline;max-height:16px;margin:0px;margin-right:7.5px;' src='data:image/svg+xml;base64,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' > </img>\nCreated in <span style='font-weight:600;margin-left:4px;'>Deepnote</span></a>",
   "metadata": {
    "tags": [],
    "created_in_deepnote_cell": true,
    "deepnote_cell_type": "markdown"
   }
  }
 ],
 "nbformat": 4,
 "nbformat_minor": 2,
 "metadata": {
  "orig_nbformat": 2,
  "deepnote": {
   "is_reactive": false
  },
  "deepnote_notebook_id": "dd49295f-e4b9-4d66-88c1-2b41ae35c745",
  "deepnote_execution_queue": []
 }
}